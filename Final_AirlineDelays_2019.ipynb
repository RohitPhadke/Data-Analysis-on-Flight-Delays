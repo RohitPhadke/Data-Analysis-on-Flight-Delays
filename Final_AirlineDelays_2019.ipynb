{
 "cells": [
  {
   "cell_type": "markdown",
   "metadata": {},
   "source": [
    "# Data Analysis on Airlines Delays"
   ]
  },
  {
   "cell_type": "markdown",
   "metadata": {},
   "source": [
    "#### Goal :                                                                                                  \n",
    "To analyse airlines delay data in USA and curve delays caused in major airlines between busiest routes which will give a fair idea to passengers about frequency of delays in general for a period of one year along with a particular airline and between a particular route. This will help customers for choosing a better airlines and taking a right call based on the weather for a particular region. Also,the same will also help airlines for better management and work on root cause of the delays."
   ]
  },
  {
   "cell_type": "markdown",
   "metadata": {},
   "source": [
    "#### Objective: \n",
    "To provide general descriptive analysis on delays and to analyse the root cause of delays.                                      To generate Predictive analysis in determining probabale delays in defined airlines and airports.                                To compare between different airlines and major airports with respect to delays and cancellation."
   ]
  },
  {
   "cell_type": "code",
   "execution_count": 65,
   "metadata": {},
   "outputs": [],
   "source": [
    "import unicodecsv  #importing csv\n",
    "import pandas as pd #importing pandas\n",
    "import numpy as np #importing numpy\n",
    "import time #importing time\n",
    "import matplotlib.pyplot as plt #importing matplotlib\n",
    "import seaborn as sns #importing seaborn\n",
    "import datetime as dt #importing datetime\n",
    "from scipy import stats #importing scipy\n",
    "from scipy.stats import norm\n",
    "from os import walk\n",
    "import time\n",
    "%matplotlib inline\n",
    "sns.set_style('whitegrid')"
   ]
  },
  {
   "cell_type": "markdown",
   "metadata": {},
   "source": [
    "Source:\n",
    "Airlines Data - Bureau of Transportation Statistics"
   ]
  },
  {
   "cell_type": "markdown",
   "metadata": {},
   "source": [
    "### Data Cleaning of the dataset:"
   ]
  },
  {
   "cell_type": "code",
   "execution_count": 66,
   "metadata": {},
   "outputs": [
    {
     "name": "stderr",
     "output_type": "stream",
     "text": [
      "C:\\Users\\varap\\Anaconda3\\lib\\site-packages\\IPython\\core\\interactiveshell.py:3057: DtypeWarning:\n",
      "\n",
      "Columns (27) have mixed types. Specify dtype option on import or set low_memory=False.\n",
      "\n"
     ]
    },
    {
     "name": "stdout",
     "output_type": "stream",
     "text": [
      "108.68734526634216\n"
     ]
    }
   ],
   "source": [
    "tic = time.time()\n",
    "#Read all the airline data files\n",
    "df = pd.DataFrame()\n",
    "\n",
    "f = []\n",
    "for (dirpath,dirnames,filenames) in walk('C:/Users/varap/OneDrive/Documents/Intro to DS/Project/27thNov/RawFiles/Monthly/'):\n",
    "    f.extend(filenames)\n",
    "    break\n",
    "\n",
    "for file in f[1:]:\n",
    "    df = df.append(pd.read_csv('C:/Users/varap/OneDrive/Documents/Intro to DS/Project/27thNov/RawFiles/Monthly/'+file))\n",
    "    \n",
    "toc = time.time()\n",
    "print(toc-tic)"
   ]
  },
  {
   "cell_type": "code",
   "execution_count": 67,
   "metadata": {},
   "outputs": [
    {
     "data": {
      "text/html": [
       "<div>\n",
       "<style scoped>\n",
       "    .dataframe tbody tr th:only-of-type {\n",
       "        vertical-align: middle;\n",
       "    }\n",
       "\n",
       "    .dataframe tbody tr th {\n",
       "        vertical-align: top;\n",
       "    }\n",
       "\n",
       "    .dataframe thead th {\n",
       "        text-align: right;\n",
       "    }\n",
       "</style>\n",
       "<table border=\"1\" class=\"dataframe\">\n",
       "  <thead>\n",
       "    <tr style=\"text-align: right;\">\n",
       "      <th></th>\n",
       "      <th>YEAR</th>\n",
       "      <th>MONTH</th>\n",
       "      <th>DAY_OF_MONTH</th>\n",
       "      <th>DAY_OF_WEEK</th>\n",
       "      <th>FL_DATE</th>\n",
       "      <th>OP_UNIQUE_CARRIER</th>\n",
       "      <th>TAIL_NUM</th>\n",
       "      <th>OP_CARRIER_FL_NUM</th>\n",
       "      <th>ORIGIN_AIRPORT_ID</th>\n",
       "      <th>ORIGIN</th>\n",
       "      <th>...</th>\n",
       "      <th>ACTUAL_ELAPSED_TIME</th>\n",
       "      <th>AIR_TIME</th>\n",
       "      <th>FLIGHTS</th>\n",
       "      <th>DISTANCE</th>\n",
       "      <th>CARRIER_DELAY</th>\n",
       "      <th>WEATHER_DELAY</th>\n",
       "      <th>NAS_DELAY</th>\n",
       "      <th>SECURITY_DELAY</th>\n",
       "      <th>LATE_AIRCRAFT_DELAY</th>\n",
       "      <th>Unnamed: 39</th>\n",
       "    </tr>\n",
       "  </thead>\n",
       "  <tbody>\n",
       "    <tr>\n",
       "      <th>0</th>\n",
       "      <td>2019</td>\n",
       "      <td>8</td>\n",
       "      <td>23</td>\n",
       "      <td>5</td>\n",
       "      <td>2019-08-23</td>\n",
       "      <td>WN</td>\n",
       "      <td>N7704B</td>\n",
       "      <td>528</td>\n",
       "      <td>15016</td>\n",
       "      <td>STL</td>\n",
       "      <td>...</td>\n",
       "      <td>196.0</td>\n",
       "      <td>181.0</td>\n",
       "      <td>1.0</td>\n",
       "      <td>1371.0</td>\n",
       "      <td>NaN</td>\n",
       "      <td>NaN</td>\n",
       "      <td>NaN</td>\n",
       "      <td>NaN</td>\n",
       "      <td>NaN</td>\n",
       "      <td>NaN</td>\n",
       "    </tr>\n",
       "    <tr>\n",
       "      <th>1</th>\n",
       "      <td>2019</td>\n",
       "      <td>8</td>\n",
       "      <td>23</td>\n",
       "      <td>5</td>\n",
       "      <td>2019-08-23</td>\n",
       "      <td>WN</td>\n",
       "      <td>N8661A</td>\n",
       "      <td>2090</td>\n",
       "      <td>15016</td>\n",
       "      <td>STL</td>\n",
       "      <td>...</td>\n",
       "      <td>193.0</td>\n",
       "      <td>182.0</td>\n",
       "      <td>1.0</td>\n",
       "      <td>1371.0</td>\n",
       "      <td>NaN</td>\n",
       "      <td>NaN</td>\n",
       "      <td>NaN</td>\n",
       "      <td>NaN</td>\n",
       "      <td>NaN</td>\n",
       "      <td>NaN</td>\n",
       "    </tr>\n",
       "    <tr>\n",
       "      <th>2</th>\n",
       "      <td>2019</td>\n",
       "      <td>8</td>\n",
       "      <td>23</td>\n",
       "      <td>5</td>\n",
       "      <td>2019-08-23</td>\n",
       "      <td>WN</td>\n",
       "      <td>N8672F</td>\n",
       "      <td>564</td>\n",
       "      <td>15016</td>\n",
       "      <td>STL</td>\n",
       "      <td>...</td>\n",
       "      <td>228.0</td>\n",
       "      <td>208.0</td>\n",
       "      <td>1.0</td>\n",
       "      <td>1592.0</td>\n",
       "      <td>NaN</td>\n",
       "      <td>NaN</td>\n",
       "      <td>NaN</td>\n",
       "      <td>NaN</td>\n",
       "      <td>NaN</td>\n",
       "      <td>NaN</td>\n",
       "    </tr>\n",
       "    <tr>\n",
       "      <th>3</th>\n",
       "      <td>2019</td>\n",
       "      <td>8</td>\n",
       "      <td>23</td>\n",
       "      <td>5</td>\n",
       "      <td>2019-08-23</td>\n",
       "      <td>WN</td>\n",
       "      <td>N561WN</td>\n",
       "      <td>570</td>\n",
       "      <td>15016</td>\n",
       "      <td>STL</td>\n",
       "      <td>...</td>\n",
       "      <td>229.0</td>\n",
       "      <td>212.0</td>\n",
       "      <td>1.0</td>\n",
       "      <td>1592.0</td>\n",
       "      <td>NaN</td>\n",
       "      <td>NaN</td>\n",
       "      <td>NaN</td>\n",
       "      <td>NaN</td>\n",
       "      <td>NaN</td>\n",
       "      <td>NaN</td>\n",
       "    </tr>\n",
       "    <tr>\n",
       "      <th>4</th>\n",
       "      <td>2019</td>\n",
       "      <td>8</td>\n",
       "      <td>23</td>\n",
       "      <td>5</td>\n",
       "      <td>2019-08-23</td>\n",
       "      <td>WN</td>\n",
       "      <td>N8608N</td>\n",
       "      <td>1841</td>\n",
       "      <td>15016</td>\n",
       "      <td>STL</td>\n",
       "      <td>...</td>\n",
       "      <td>226.0</td>\n",
       "      <td>210.0</td>\n",
       "      <td>1.0</td>\n",
       "      <td>1592.0</td>\n",
       "      <td>NaN</td>\n",
       "      <td>NaN</td>\n",
       "      <td>NaN</td>\n",
       "      <td>NaN</td>\n",
       "      <td>NaN</td>\n",
       "      <td>NaN</td>\n",
       "    </tr>\n",
       "  </tbody>\n",
       "</table>\n",
       "<p>5 rows × 40 columns</p>\n",
       "</div>"
      ],
      "text/plain": [
       "   YEAR  MONTH  DAY_OF_MONTH  DAY_OF_WEEK     FL_DATE OP_UNIQUE_CARRIER  \\\n",
       "0  2019      8            23            5  2019-08-23                WN   \n",
       "1  2019      8            23            5  2019-08-23                WN   \n",
       "2  2019      8            23            5  2019-08-23                WN   \n",
       "3  2019      8            23            5  2019-08-23                WN   \n",
       "4  2019      8            23            5  2019-08-23                WN   \n",
       "\n",
       "  TAIL_NUM  OP_CARRIER_FL_NUM  ORIGIN_AIRPORT_ID ORIGIN  ...  \\\n",
       "0   N7704B                528              15016    STL  ...   \n",
       "1   N8661A               2090              15016    STL  ...   \n",
       "2   N8672F                564              15016    STL  ...   \n",
       "3   N561WN                570              15016    STL  ...   \n",
       "4   N8608N               1841              15016    STL  ...   \n",
       "\n",
       "  ACTUAL_ELAPSED_TIME  AIR_TIME FLIGHTS DISTANCE  CARRIER_DELAY  \\\n",
       "0               196.0     181.0     1.0   1371.0            NaN   \n",
       "1               193.0     182.0     1.0   1371.0            NaN   \n",
       "2               228.0     208.0     1.0   1592.0            NaN   \n",
       "3               229.0     212.0     1.0   1592.0            NaN   \n",
       "4               226.0     210.0     1.0   1592.0            NaN   \n",
       "\n",
       "   WEATHER_DELAY  NAS_DELAY  SECURITY_DELAY  LATE_AIRCRAFT_DELAY  Unnamed: 39  \n",
       "0            NaN        NaN             NaN                  NaN          NaN  \n",
       "1            NaN        NaN             NaN                  NaN          NaN  \n",
       "2            NaN        NaN             NaN                  NaN          NaN  \n",
       "3            NaN        NaN             NaN                  NaN          NaN  \n",
       "4            NaN        NaN             NaN                  NaN          NaN  \n",
       "\n",
       "[5 rows x 40 columns]"
      ]
     },
     "execution_count": 67,
     "metadata": {},
     "output_type": "execute_result"
    }
   ],
   "source": [
    "df.head() #gives us the first 5 values of the dataset"
   ]
  },
  {
   "cell_type": "code",
   "execution_count": 68,
   "metadata": {
    "scrolled": true
   },
   "outputs": [
    {
     "data": {
      "text/plain": [
       "Index(['YEAR', 'MONTH', 'DAY_OF_MONTH', 'DAY_OF_WEEK', 'FL_DATE',\n",
       "       'OP_UNIQUE_CARRIER', 'TAIL_NUM', 'OP_CARRIER_FL_NUM',\n",
       "       'ORIGIN_AIRPORT_ID', 'ORIGIN', 'ORIGIN_CITY_NAME', 'DEST_AIRPORT_ID',\n",
       "       'DEST', 'DEST_CITY_NAME', 'CRS_DEP_TIME', 'DEP_TIME', 'DEP_DELAY',\n",
       "       'DEP_DELAY_NEW', 'TAXI_OUT', 'WHEELS_OFF', 'WHEELS_ON', 'TAXI_IN',\n",
       "       'CRS_ARR_TIME', 'ARR_TIME', 'ARR_DELAY', 'ARR_DELAY_NEW', 'CANCELLED',\n",
       "       'CANCELLATION_CODE', 'DIVERTED', 'CRS_ELAPSED_TIME',\n",
       "       'ACTUAL_ELAPSED_TIME', 'AIR_TIME', 'FLIGHTS', 'DISTANCE',\n",
       "       'CARRIER_DELAY', 'WEATHER_DELAY', 'NAS_DELAY', 'SECURITY_DELAY',\n",
       "       'LATE_AIRCRAFT_DELAY', 'Unnamed: 39'],\n",
       "      dtype='object')"
      ]
     },
     "execution_count": 68,
     "metadata": {},
     "output_type": "execute_result"
    }
   ],
   "source": [
    "df.columns #gives us the name and number of columns of the dataset"
   ]
  },
  {
   "cell_type": "code",
   "execution_count": 69,
   "metadata": {},
   "outputs": [],
   "source": [
    "#Read the Carrier Key CSV file for full names of the Airlines\n",
    "carrier_key = pd.read_csv('C:/Users/varap/OneDrive/Documents/Intro to DS/Project/27thNov/RawFiles/airlines_desc.csv')"
   ]
  },
  {
   "cell_type": "code",
   "execution_count": 70,
   "metadata": {},
   "outputs": [],
   "source": [
    "#Merge with the dataframe containing the 10 biggest Airline Carriers\n",
    "df = pd.merge(df,carrier_key,how='left',left_on='OP_UNIQUE_CARRIER', right_on='OP_UNIQUE_CARRIER')"
   ]
  },
  {
   "cell_type": "code",
   "execution_count": 71,
   "metadata": {},
   "outputs": [],
   "source": [
    "#Remove columns which are not used in analysis\n",
    "df.drop(['ORIGIN_AIRPORT_ID','DEST_AIRPORT_ID','Unnamed: 39','DEP_DELAY','ARR_DELAY'],axis=1,inplace=True)"
   ]
  },
  {
   "cell_type": "code",
   "execution_count": 72,
   "metadata": {},
   "outputs": [
    {
     "name": "stdout",
     "output_type": "stream",
     "text": [
      "Data Retained: 97.94 %\n"
     ]
    }
   ],
   "source": [
    "#Drop rows with missing data in the important columns, i.e. the predictors for flight delay\n",
    "total_data_rows = len(df.index)\n",
    "#Drop NaNs\n",
    "df.dropna(subset = ['OP_UNIQUE_CARRIER','ORIGIN','DEST','CRS_DEP_TIME','CRS_ARR_TIME','ARR_DELAY_NEW','CRS_ELAPSED_TIME','DISTANCE'],inplace=True)\n",
    "data_retained = len(df.index)/total_data_rows\n",
    "print('Data Retained: '+str(round(data_retained*100,2))+' %')"
   ]
  },
  {
   "cell_type": "code",
   "execution_count": 73,
   "metadata": {},
   "outputs": [],
   "source": [
    "#Get the Departure and Arrival Hours\n",
    "#For DEP_HOUR, take the CRS_DEP_TIME\n",
    "df['DEP_HOUR'] = df['CRS_DEP_TIME'].apply(lambda x:int(str(x)[:2]) if x>999 else int(str(x)[:1] if x>99 else 0))\n",
    "#For ARR_HOUR, take the actual arrival time\n",
    "df['ARR_HOUR'] = df['ARR_TIME'].apply(lambda x:int(str(x)[:2]) if x>999 else int(str(x)[:1] if x>99 else 0))\n",
    "df['ARR_HOUR'] = df['ARR_HOUR'].apply(lambda x:0 if x==24 else x)"
   ]
  },
  {
   "cell_type": "code",
   "execution_count": 74,
   "metadata": {},
   "outputs": [],
   "source": [
    "df['TOTAL_DELAY'] = df['DEP_DELAY_NEW'] + df['ARR_DELAY_NEW'] # derving a new column 'total delay'."
   ]
  },
  {
   "cell_type": "code",
   "execution_count": 75,
   "metadata": {
    "scrolled": true
   },
   "outputs": [],
   "source": [
    "df.fillna(0, inplace=True)# replacing NA Values"
   ]
  },
  {
   "cell_type": "code",
   "execution_count": 76,
   "metadata": {},
   "outputs": [],
   "source": [
    "#we rename our column names  as ber business requirements\n",
    "df.rename(columns= {'YEAR':'Year','MONTH':'Month','DAY_OF_MONTH':'Day_Of_Month','DAY_OF_WEEK':'Day_Of_Week','FL_DATE':'Flight_Date','OP_UNIQUE_CARRIER':'Carrier_Code','TAIL_NUM':'Tail_Number','OP_CARRIER_FL_NUM':'Flight_Number','ORIGIN':'Origin_Airport','ORIGIN_CITY_NAME':'Origin_City','DEST':'Destination_Airport','DEST_CITY_NAME':'Destination_City_Name','CRS_DEP_TIME':'Scheduled_departure_time','DEP_TIME':'Actual_departure_time','DEP_DELAY_NEW':'Departure_delay','TAXI_OUT':'Taxi-Out_Time','WHEELS_OFF':'Wheels-Off_Time','WHEELS_ON':'Wheels-On_Time','TAXI_IN':'Taxi-In_Time','CRS_ARR_TIME':'Scheduled_Arrival_time','ARR_TIME':'Actual_Arrival_Time','ARR_DELAY_NEW':'Arrival_Delay','CANCELLED':'Cancelled','CANCELLATION_CODE':'Cancellation_Code','DIVERTED':'Diverted','CRS_ELAPSED_TIME':'Scheduled_elapsed_time','ACTUAL_ELAPSED_TIME':'Actual_elapsed_time','AIR_TIME':'Air_Time','FLIGHTS'\n",
    ":'Flights','DISTANCE':'Distance','DEP_HOUR':'Departure_Hour','ARR_HOUR':'Arrival_Hour','CARRIER_DELAY':'Carrier_Delay','WEATHER_DELAY':'Weather_Delay','LATE_AIRCRAFT_DELAY':'Late_Aircraft_Arrival_Delay','NAS_DELAY':'National_Aviation_System_Delay','SECURITY_DELAY':'Security_Delay','TOTAL_DELAY':'Total_Delay','Airlines_x':'Airlines'},inplace=True)"
   ]
  },
  {
   "cell_type": "code",
   "execution_count": 77,
   "metadata": {},
   "outputs": [
    {
     "data": {
      "text/plain": [
       "Index(['Year', 'Month', 'Day_Of_Month', 'Day_Of_Week', 'Flight_Date',\n",
       "       'Carrier_Code', 'Tail_Number', 'Flight_Number', 'Origin_Airport',\n",
       "       'Origin_City', 'Destination_Airport', 'Destination_City_Name',\n",
       "       'Scheduled_departure_time', 'Actual_departure_time', 'Departure_delay',\n",
       "       'Taxi-Out_Time', 'Wheels-Off_Time', 'Wheels-On_Time', 'Taxi-In_Time',\n",
       "       'Scheduled_Arrival_time', 'Actual_Arrival_Time', 'Arrival_Delay',\n",
       "       'Cancelled', 'Cancellation_Code', 'Diverted', 'Scheduled_elapsed_time',\n",
       "       'Actual_elapsed_time', 'Air_Time', 'Flights', 'Distance',\n",
       "       'Carrier_Delay', 'Weather_Delay', 'National_Aviation_System_Delay',\n",
       "       'Security_Delay', 'Late_Aircraft_Arrival_Delay', 'Airlines',\n",
       "       'Departure_Hour', 'Arrival_Hour', 'Total_Delay'],\n",
       "      dtype='object')"
      ]
     },
     "execution_count": 77,
     "metadata": {},
     "output_type": "execute_result"
    }
   ],
   "source": [
    "df.columns # gives us the number and names of columns"
   ]
  },
  {
   "cell_type": "code",
   "execution_count": 78,
   "metadata": {},
   "outputs": [
    {
     "data": {
      "text/html": [
       "<div>\n",
       "<style scoped>\n",
       "    .dataframe tbody tr th:only-of-type {\n",
       "        vertical-align: middle;\n",
       "    }\n",
       "\n",
       "    .dataframe tbody tr th {\n",
       "        vertical-align: top;\n",
       "    }\n",
       "\n",
       "    .dataframe thead th {\n",
       "        text-align: right;\n",
       "    }\n",
       "</style>\n",
       "<table border=\"1\" class=\"dataframe\">\n",
       "  <thead>\n",
       "    <tr style=\"text-align: right;\">\n",
       "      <th></th>\n",
       "      <th>Year</th>\n",
       "      <th>Month</th>\n",
       "      <th>Day_Of_Month</th>\n",
       "      <th>Day_Of_Week</th>\n",
       "      <th>Flight_Date</th>\n",
       "      <th>Carrier_Code</th>\n",
       "      <th>Tail_Number</th>\n",
       "      <th>Flight_Number</th>\n",
       "      <th>Origin_Airport</th>\n",
       "      <th>Origin_City</th>\n",
       "      <th>...</th>\n",
       "      <th>Distance</th>\n",
       "      <th>Carrier_Delay</th>\n",
       "      <th>Weather_Delay</th>\n",
       "      <th>National_Aviation_System_Delay</th>\n",
       "      <th>Security_Delay</th>\n",
       "      <th>Late_Aircraft_Arrival_Delay</th>\n",
       "      <th>Airlines</th>\n",
       "      <th>Departure_Hour</th>\n",
       "      <th>Arrival_Hour</th>\n",
       "      <th>Total_Delay</th>\n",
       "    </tr>\n",
       "  </thead>\n",
       "  <tbody>\n",
       "    <tr>\n",
       "      <th>6544859</th>\n",
       "      <td>2018</td>\n",
       "      <td>9</td>\n",
       "      <td>1</td>\n",
       "      <td>6</td>\n",
       "      <td>2018-09-01</td>\n",
       "      <td>AA</td>\n",
       "      <td>N187US</td>\n",
       "      <td>646</td>\n",
       "      <td>PHX</td>\n",
       "      <td>Phoenix, AZ</td>\n",
       "      <td>...</td>\n",
       "      <td>2075.0</td>\n",
       "      <td>0.0</td>\n",
       "      <td>0.0</td>\n",
       "      <td>0.0</td>\n",
       "      <td>0.0</td>\n",
       "      <td>0.0</td>\n",
       "      <td>American Airlines</td>\n",
       "      <td>6</td>\n",
       "      <td>14</td>\n",
       "      <td>2.0</td>\n",
       "    </tr>\n",
       "    <tr>\n",
       "      <th>6642407</th>\n",
       "      <td>2018</td>\n",
       "      <td>9</td>\n",
       "      <td>1</td>\n",
       "      <td>6</td>\n",
       "      <td>2018-09-01</td>\n",
       "      <td>UA</td>\n",
       "      <td>N57868</td>\n",
       "      <td>223</td>\n",
       "      <td>SFO</td>\n",
       "      <td>San Francisco, CA</td>\n",
       "      <td>...</td>\n",
       "      <td>967.0</td>\n",
       "      <td>0.0</td>\n",
       "      <td>0.0</td>\n",
       "      <td>0.0</td>\n",
       "      <td>0.0</td>\n",
       "      <td>0.0</td>\n",
       "      <td>United Air Lines</td>\n",
       "      <td>10</td>\n",
       "      <td>14</td>\n",
       "      <td>5.0</td>\n",
       "    </tr>\n",
       "    <tr>\n",
       "      <th>6642408</th>\n",
       "      <td>2018</td>\n",
       "      <td>9</td>\n",
       "      <td>1</td>\n",
       "      <td>6</td>\n",
       "      <td>2018-09-01</td>\n",
       "      <td>UA</td>\n",
       "      <td>N427UA</td>\n",
       "      <td>221</td>\n",
       "      <td>IAD</td>\n",
       "      <td>Washington, DC</td>\n",
       "      <td>...</td>\n",
       "      <td>588.0</td>\n",
       "      <td>0.0</td>\n",
       "      <td>0.0</td>\n",
       "      <td>29.0</td>\n",
       "      <td>0.0</td>\n",
       "      <td>0.0</td>\n",
       "      <td>United Air Lines</td>\n",
       "      <td>12</td>\n",
       "      <td>14</td>\n",
       "      <td>62.0</td>\n",
       "    </tr>\n",
       "    <tr>\n",
       "      <th>6642409</th>\n",
       "      <td>2018</td>\n",
       "      <td>9</td>\n",
       "      <td>1</td>\n",
       "      <td>6</td>\n",
       "      <td>2018-09-01</td>\n",
       "      <td>UA</td>\n",
       "      <td>N17244</td>\n",
       "      <td>221</td>\n",
       "      <td>MCO</td>\n",
       "      <td>Orlando, FL</td>\n",
       "      <td>...</td>\n",
       "      <td>758.0</td>\n",
       "      <td>0.0</td>\n",
       "      <td>0.0</td>\n",
       "      <td>0.0</td>\n",
       "      <td>0.0</td>\n",
       "      <td>0.0</td>\n",
       "      <td>United Air Lines</td>\n",
       "      <td>9</td>\n",
       "      <td>11</td>\n",
       "      <td>0.0</td>\n",
       "    </tr>\n",
       "    <tr>\n",
       "      <th>6642410</th>\n",
       "      <td>2018</td>\n",
       "      <td>9</td>\n",
       "      <td>1</td>\n",
       "      <td>6</td>\n",
       "      <td>2018-09-01</td>\n",
       "      <td>UA</td>\n",
       "      <td>N423UA</td>\n",
       "      <td>220</td>\n",
       "      <td>PIT</td>\n",
       "      <td>Pittsburgh, PA</td>\n",
       "      <td>...</td>\n",
       "      <td>413.0</td>\n",
       "      <td>0.0</td>\n",
       "      <td>0.0</td>\n",
       "      <td>0.0</td>\n",
       "      <td>0.0</td>\n",
       "      <td>0.0</td>\n",
       "      <td>United Air Lines</td>\n",
       "      <td>17</td>\n",
       "      <td>18</td>\n",
       "      <td>0.0</td>\n",
       "    </tr>\n",
       "    <tr>\n",
       "      <th>6642411</th>\n",
       "      <td>2018</td>\n",
       "      <td>9</td>\n",
       "      <td>1</td>\n",
       "      <td>6</td>\n",
       "      <td>2018-09-01</td>\n",
       "      <td>UA</td>\n",
       "      <td>N211UA</td>\n",
       "      <td>219</td>\n",
       "      <td>ORD</td>\n",
       "      <td>Chicago, IL</td>\n",
       "      <td>...</td>\n",
       "      <td>4243.0</td>\n",
       "      <td>0.0</td>\n",
       "      <td>36.0</td>\n",
       "      <td>38.0</td>\n",
       "      <td>0.0</td>\n",
       "      <td>0.0</td>\n",
       "      <td>United Air Lines</td>\n",
       "      <td>10</td>\n",
       "      <td>15</td>\n",
       "      <td>110.0</td>\n",
       "    </tr>\n",
       "    <tr>\n",
       "      <th>6642412</th>\n",
       "      <td>2018</td>\n",
       "      <td>9</td>\n",
       "      <td>1</td>\n",
       "      <td>6</td>\n",
       "      <td>2018-09-01</td>\n",
       "      <td>UA</td>\n",
       "      <td>N768UA</td>\n",
       "      <td>218</td>\n",
       "      <td>HNL</td>\n",
       "      <td>Honolulu, HI</td>\n",
       "      <td>...</td>\n",
       "      <td>4243.0</td>\n",
       "      <td>0.0</td>\n",
       "      <td>0.0</td>\n",
       "      <td>0.0</td>\n",
       "      <td>0.0</td>\n",
       "      <td>0.0</td>\n",
       "      <td>United Air Lines</td>\n",
       "      <td>15</td>\n",
       "      <td>4</td>\n",
       "      <td>0.0</td>\n",
       "    </tr>\n",
       "    <tr>\n",
       "      <th>6642413</th>\n",
       "      <td>2018</td>\n",
       "      <td>9</td>\n",
       "      <td>1</td>\n",
       "      <td>6</td>\n",
       "      <td>2018-09-01</td>\n",
       "      <td>UA</td>\n",
       "      <td>N27722</td>\n",
       "      <td>217</td>\n",
       "      <td>ABQ</td>\n",
       "      <td>Albuquerque, NM</td>\n",
       "      <td>...</td>\n",
       "      <td>1118.0</td>\n",
       "      <td>0.0</td>\n",
       "      <td>0.0</td>\n",
       "      <td>0.0</td>\n",
       "      <td>0.0</td>\n",
       "      <td>21.0</td>\n",
       "      <td>United Air Lines</td>\n",
       "      <td>13</td>\n",
       "      <td>17</td>\n",
       "      <td>59.0</td>\n",
       "    </tr>\n",
       "    <tr>\n",
       "      <th>6642414</th>\n",
       "      <td>2018</td>\n",
       "      <td>9</td>\n",
       "      <td>1</td>\n",
       "      <td>6</td>\n",
       "      <td>2018-09-01</td>\n",
       "      <td>UA</td>\n",
       "      <td>N12238</td>\n",
       "      <td>215</td>\n",
       "      <td>DCA</td>\n",
       "      <td>Washington, DC</td>\n",
       "      <td>...</td>\n",
       "      <td>1208.0</td>\n",
       "      <td>0.0</td>\n",
       "      <td>0.0</td>\n",
       "      <td>0.0</td>\n",
       "      <td>0.0</td>\n",
       "      <td>0.0</td>\n",
       "      <td>United Air Lines</td>\n",
       "      <td>10</td>\n",
       "      <td>12</td>\n",
       "      <td>7.0</td>\n",
       "    </tr>\n",
       "    <tr>\n",
       "      <th>6642415</th>\n",
       "      <td>2018</td>\n",
       "      <td>9</td>\n",
       "      <td>1</td>\n",
       "      <td>6</td>\n",
       "      <td>2018-09-01</td>\n",
       "      <td>UA</td>\n",
       "      <td>N837UA</td>\n",
       "      <td>214</td>\n",
       "      <td>SEA</td>\n",
       "      <td>Seattle, WA</td>\n",
       "      <td>...</td>\n",
       "      <td>679.0</td>\n",
       "      <td>0.0</td>\n",
       "      <td>0.0</td>\n",
       "      <td>0.0</td>\n",
       "      <td>0.0</td>\n",
       "      <td>0.0</td>\n",
       "      <td>United Air Lines</td>\n",
       "      <td>18</td>\n",
       "      <td>19</td>\n",
       "      <td>0.0</td>\n",
       "    </tr>\n",
       "  </tbody>\n",
       "</table>\n",
       "<p>10 rows × 39 columns</p>\n",
       "</div>"
      ],
      "text/plain": [
       "         Year  Month  Day_Of_Month  Day_Of_Week Flight_Date Carrier_Code  \\\n",
       "6544859  2018      9             1            6  2018-09-01           AA   \n",
       "6642407  2018      9             1            6  2018-09-01           UA   \n",
       "6642408  2018      9             1            6  2018-09-01           UA   \n",
       "6642409  2018      9             1            6  2018-09-01           UA   \n",
       "6642410  2018      9             1            6  2018-09-01           UA   \n",
       "6642411  2018      9             1            6  2018-09-01           UA   \n",
       "6642412  2018      9             1            6  2018-09-01           UA   \n",
       "6642413  2018      9             1            6  2018-09-01           UA   \n",
       "6642414  2018      9             1            6  2018-09-01           UA   \n",
       "6642415  2018      9             1            6  2018-09-01           UA   \n",
       "\n",
       "        Tail_Number  Flight_Number Origin_Airport        Origin_City  ...  \\\n",
       "6544859      N187US            646            PHX        Phoenix, AZ  ...   \n",
       "6642407      N57868            223            SFO  San Francisco, CA  ...   \n",
       "6642408      N427UA            221            IAD     Washington, DC  ...   \n",
       "6642409      N17244            221            MCO        Orlando, FL  ...   \n",
       "6642410      N423UA            220            PIT     Pittsburgh, PA  ...   \n",
       "6642411      N211UA            219            ORD        Chicago, IL  ...   \n",
       "6642412      N768UA            218            HNL       Honolulu, HI  ...   \n",
       "6642413      N27722            217            ABQ    Albuquerque, NM  ...   \n",
       "6642414      N12238            215            DCA     Washington, DC  ...   \n",
       "6642415      N837UA            214            SEA        Seattle, WA  ...   \n",
       "\n",
       "        Distance Carrier_Delay  Weather_Delay  National_Aviation_System_Delay  \\\n",
       "6544859   2075.0           0.0            0.0                             0.0   \n",
       "6642407    967.0           0.0            0.0                             0.0   \n",
       "6642408    588.0           0.0            0.0                            29.0   \n",
       "6642409    758.0           0.0            0.0                             0.0   \n",
       "6642410    413.0           0.0            0.0                             0.0   \n",
       "6642411   4243.0           0.0           36.0                            38.0   \n",
       "6642412   4243.0           0.0            0.0                             0.0   \n",
       "6642413   1118.0           0.0            0.0                             0.0   \n",
       "6642414   1208.0           0.0            0.0                             0.0   \n",
       "6642415    679.0           0.0            0.0                             0.0   \n",
       "\n",
       "         Security_Delay  Late_Aircraft_Arrival_Delay            Airlines  \\\n",
       "6544859             0.0                          0.0  American Airlines    \n",
       "6642407             0.0                          0.0   United Air Lines    \n",
       "6642408             0.0                          0.0   United Air Lines    \n",
       "6642409             0.0                          0.0   United Air Lines    \n",
       "6642410             0.0                          0.0   United Air Lines    \n",
       "6642411             0.0                          0.0   United Air Lines    \n",
       "6642412             0.0                          0.0   United Air Lines    \n",
       "6642413             0.0                         21.0   United Air Lines    \n",
       "6642414             0.0                          0.0   United Air Lines    \n",
       "6642415             0.0                          0.0   United Air Lines    \n",
       "\n",
       "         Departure_Hour  Arrival_Hour  Total_Delay  \n",
       "6544859               6            14          2.0  \n",
       "6642407              10            14          5.0  \n",
       "6642408              12            14         62.0  \n",
       "6642409               9            11          0.0  \n",
       "6642410              17            18          0.0  \n",
       "6642411              10            15        110.0  \n",
       "6642412              15             4          0.0  \n",
       "6642413              13            17         59.0  \n",
       "6642414              10            12          7.0  \n",
       "6642415              18            19          0.0  \n",
       "\n",
       "[10 rows x 39 columns]"
      ]
     },
     "execution_count": 78,
     "metadata": {},
     "output_type": "execute_result"
    }
   ],
   "source": [
    "# Sorting the data by Date Column in Ascending order:\n",
    "df=df.sort_values(by=['Flight_Date'],ascending=True)\n",
    "df[0:10]"
   ]
  },
  {
   "cell_type": "code",
   "execution_count": 79,
   "metadata": {},
   "outputs": [
    {
     "data": {
      "text/plain": [
       "0"
      ]
     },
     "execution_count": 79,
     "metadata": {},
     "output_type": "execute_result"
    }
   ],
   "source": [
    "# Checking for duplicate Values\n",
    "df.duplicated().sum()"
   ]
  },
  {
   "cell_type": "markdown",
   "metadata": {},
   "source": [
    "#### Status represents wether the flight was on time (0), slightly delayed (1), highly delayed (2), diverted (3), or cancelled (4)"
   ]
  },
  {
   "cell_type": "code",
   "execution_count": 80,
   "metadata": {},
   "outputs": [],
   "source": [
    "df.loc[df['Total_Delay'] <= 15, 'Status'] = 0\n",
    "df.loc[df['Total_Delay'] >= 15, 'Status'] = 1\n",
    "df.loc[df['Total_Delay'] >= 60, 'Status'] = 2\n",
    "df.loc[df['Cancellation_Code'] == 1, 'Status'] = 3\n",
    "df.loc[df['Carrier_Code'] == 'AA', 'CC'] = 1\n",
    "df.loc[df['Carrier_Code'] == 'DL', 'CC'] = 2\n",
    "df.loc[df['Carrier_Code'] == 'UA', 'CC'] = 3\n",
    "df.loc[df['Carrier_Code'] == 'B6', 'CC'] = 4\n"
   ]
  },
  {
   "cell_type": "code",
   "execution_count": 81,
   "metadata": {},
   "outputs": [
    {
     "data": {
      "text/html": [
       "<div>\n",
       "<style scoped>\n",
       "    .dataframe tbody tr th:only-of-type {\n",
       "        vertical-align: middle;\n",
       "    }\n",
       "\n",
       "    .dataframe tbody tr th {\n",
       "        vertical-align: top;\n",
       "    }\n",
       "\n",
       "    .dataframe thead th {\n",
       "        text-align: right;\n",
       "    }\n",
       "</style>\n",
       "<table border=\"1\" class=\"dataframe\">\n",
       "  <thead>\n",
       "    <tr style=\"text-align: right;\">\n",
       "      <th></th>\n",
       "      <th>Year</th>\n",
       "      <th>Month</th>\n",
       "      <th>Day_Of_Month</th>\n",
       "      <th>Day_Of_Week</th>\n",
       "      <th>Flight_Date</th>\n",
       "      <th>Carrier_Code</th>\n",
       "      <th>Tail_Number</th>\n",
       "      <th>Flight_Number</th>\n",
       "      <th>Origin_Airport</th>\n",
       "      <th>Origin_City</th>\n",
       "      <th>...</th>\n",
       "      <th>Weather_Delay</th>\n",
       "      <th>National_Aviation_System_Delay</th>\n",
       "      <th>Security_Delay</th>\n",
       "      <th>Late_Aircraft_Arrival_Delay</th>\n",
       "      <th>Airlines</th>\n",
       "      <th>Departure_Hour</th>\n",
       "      <th>Arrival_Hour</th>\n",
       "      <th>Total_Delay</th>\n",
       "      <th>Status</th>\n",
       "      <th>CC</th>\n",
       "    </tr>\n",
       "  </thead>\n",
       "  <tbody>\n",
       "    <tr>\n",
       "      <th>6544859</th>\n",
       "      <td>2018</td>\n",
       "      <td>9</td>\n",
       "      <td>1</td>\n",
       "      <td>6</td>\n",
       "      <td>2018-09-01</td>\n",
       "      <td>AA</td>\n",
       "      <td>N187US</td>\n",
       "      <td>646</td>\n",
       "      <td>PHX</td>\n",
       "      <td>Phoenix, AZ</td>\n",
       "      <td>...</td>\n",
       "      <td>0.0</td>\n",
       "      <td>0.0</td>\n",
       "      <td>0.0</td>\n",
       "      <td>0.0</td>\n",
       "      <td>American Airlines</td>\n",
       "      <td>6</td>\n",
       "      <td>14</td>\n",
       "      <td>2.0</td>\n",
       "      <td>0.0</td>\n",
       "      <td>1.0</td>\n",
       "    </tr>\n",
       "    <tr>\n",
       "      <th>6642407</th>\n",
       "      <td>2018</td>\n",
       "      <td>9</td>\n",
       "      <td>1</td>\n",
       "      <td>6</td>\n",
       "      <td>2018-09-01</td>\n",
       "      <td>UA</td>\n",
       "      <td>N57868</td>\n",
       "      <td>223</td>\n",
       "      <td>SFO</td>\n",
       "      <td>San Francisco, CA</td>\n",
       "      <td>...</td>\n",
       "      <td>0.0</td>\n",
       "      <td>0.0</td>\n",
       "      <td>0.0</td>\n",
       "      <td>0.0</td>\n",
       "      <td>United Air Lines</td>\n",
       "      <td>10</td>\n",
       "      <td>14</td>\n",
       "      <td>5.0</td>\n",
       "      <td>0.0</td>\n",
       "      <td>3.0</td>\n",
       "    </tr>\n",
       "    <tr>\n",
       "      <th>6642408</th>\n",
       "      <td>2018</td>\n",
       "      <td>9</td>\n",
       "      <td>1</td>\n",
       "      <td>6</td>\n",
       "      <td>2018-09-01</td>\n",
       "      <td>UA</td>\n",
       "      <td>N427UA</td>\n",
       "      <td>221</td>\n",
       "      <td>IAD</td>\n",
       "      <td>Washington, DC</td>\n",
       "      <td>...</td>\n",
       "      <td>0.0</td>\n",
       "      <td>29.0</td>\n",
       "      <td>0.0</td>\n",
       "      <td>0.0</td>\n",
       "      <td>United Air Lines</td>\n",
       "      <td>12</td>\n",
       "      <td>14</td>\n",
       "      <td>62.0</td>\n",
       "      <td>2.0</td>\n",
       "      <td>3.0</td>\n",
       "    </tr>\n",
       "    <tr>\n",
       "      <th>6642409</th>\n",
       "      <td>2018</td>\n",
       "      <td>9</td>\n",
       "      <td>1</td>\n",
       "      <td>6</td>\n",
       "      <td>2018-09-01</td>\n",
       "      <td>UA</td>\n",
       "      <td>N17244</td>\n",
       "      <td>221</td>\n",
       "      <td>MCO</td>\n",
       "      <td>Orlando, FL</td>\n",
       "      <td>...</td>\n",
       "      <td>0.0</td>\n",
       "      <td>0.0</td>\n",
       "      <td>0.0</td>\n",
       "      <td>0.0</td>\n",
       "      <td>United Air Lines</td>\n",
       "      <td>9</td>\n",
       "      <td>11</td>\n",
       "      <td>0.0</td>\n",
       "      <td>0.0</td>\n",
       "      <td>3.0</td>\n",
       "    </tr>\n",
       "    <tr>\n",
       "      <th>6642410</th>\n",
       "      <td>2018</td>\n",
       "      <td>9</td>\n",
       "      <td>1</td>\n",
       "      <td>6</td>\n",
       "      <td>2018-09-01</td>\n",
       "      <td>UA</td>\n",
       "      <td>N423UA</td>\n",
       "      <td>220</td>\n",
       "      <td>PIT</td>\n",
       "      <td>Pittsburgh, PA</td>\n",
       "      <td>...</td>\n",
       "      <td>0.0</td>\n",
       "      <td>0.0</td>\n",
       "      <td>0.0</td>\n",
       "      <td>0.0</td>\n",
       "      <td>United Air Lines</td>\n",
       "      <td>17</td>\n",
       "      <td>18</td>\n",
       "      <td>0.0</td>\n",
       "      <td>0.0</td>\n",
       "      <td>3.0</td>\n",
       "    </tr>\n",
       "  </tbody>\n",
       "</table>\n",
       "<p>5 rows × 41 columns</p>\n",
       "</div>"
      ],
      "text/plain": [
       "         Year  Month  Day_Of_Month  Day_Of_Week Flight_Date Carrier_Code  \\\n",
       "6544859  2018      9             1            6  2018-09-01           AA   \n",
       "6642407  2018      9             1            6  2018-09-01           UA   \n",
       "6642408  2018      9             1            6  2018-09-01           UA   \n",
       "6642409  2018      9             1            6  2018-09-01           UA   \n",
       "6642410  2018      9             1            6  2018-09-01           UA   \n",
       "\n",
       "        Tail_Number  Flight_Number Origin_Airport        Origin_City  ...  \\\n",
       "6544859      N187US            646            PHX        Phoenix, AZ  ...   \n",
       "6642407      N57868            223            SFO  San Francisco, CA  ...   \n",
       "6642408      N427UA            221            IAD     Washington, DC  ...   \n",
       "6642409      N17244            221            MCO        Orlando, FL  ...   \n",
       "6642410      N423UA            220            PIT     Pittsburgh, PA  ...   \n",
       "\n",
       "        Weather_Delay National_Aviation_System_Delay  Security_Delay  \\\n",
       "6544859           0.0                            0.0             0.0   \n",
       "6642407           0.0                            0.0             0.0   \n",
       "6642408           0.0                           29.0             0.0   \n",
       "6642409           0.0                            0.0             0.0   \n",
       "6642410           0.0                            0.0             0.0   \n",
       "\n",
       "         Late_Aircraft_Arrival_Delay            Airlines  Departure_Hour  \\\n",
       "6544859                          0.0  American Airlines                6   \n",
       "6642407                          0.0   United Air Lines               10   \n",
       "6642408                          0.0   United Air Lines               12   \n",
       "6642409                          0.0   United Air Lines                9   \n",
       "6642410                          0.0   United Air Lines               17   \n",
       "\n",
       "         Arrival_Hour  Total_Delay  Status   CC  \n",
       "6544859            14          2.0     0.0  1.0  \n",
       "6642407            14          5.0     0.0  3.0  \n",
       "6642408            14         62.0     2.0  3.0  \n",
       "6642409            11          0.0     0.0  3.0  \n",
       "6642410            18          0.0     0.0  3.0  \n",
       "\n",
       "[5 rows x 41 columns]"
      ]
     },
     "execution_count": 81,
     "metadata": {},
     "output_type": "execute_result"
    }
   ],
   "source": [
    "df.head() # Gives us the firt 5 values of the dataset"
   ]
  },
  {
   "cell_type": "markdown",
   "metadata": {},
   "source": [
    "# Exploratory Data Analysis:"
   ]
  },
  {
   "cell_type": "markdown",
   "metadata": {},
   "source": [
    "## Density Plot and Histogram of Flight Delays"
   ]
  },
  {
   "cell_type": "markdown",
   "metadata": {},
   "source": [
    "It can be seen on the histogram and by the skewness and kurtosis indexes, that delays are mostly located on the left side of the graph, with a long tail to the right. The majority of delays are short, and the longer delays, while unusual, are more heavy loaded in time"
   ]
  },
  {
   "cell_type": "code",
   "execution_count": 82,
   "metadata": {},
   "outputs": [
    {
     "data": {
      "image/png": "[encoded data removed]",
      "text/plain": [
       "<Figure size 432x288 with 1 Axes>"
      ]
     },
     "metadata": {},
     "output_type": "display_data"
    }
   ],
   "source": [
    "Delayedflights = df[(df.Status >= 1) &(df.Status < 3)] \n",
    "sns.distplot(Delayedflights['Total_Delay']) #creating the density plot of flight delays\n",
    "plt.xlabel('Delay in mins') #the name of the x axis of the graph\n",
    "plt.ylabel('Density')     #the name of the y axis of the graph\n",
    "plt.title('Density Plot and Histogram of Flight Delays') # the name of the title of the graph\n",
    "plt.show()"
   ]
  },
  {
   "cell_type": "code",
   "execution_count": 83,
   "metadata": {},
   "outputs": [
    {
     "name": "stdout",
     "output_type": "stream",
     "text": [
      "Skewness: 6.157955\n",
      "Kurtosis: 63.429013\n"
     ]
    }
   ],
   "source": [
    "print(\"Skewness: %f\" % Delayedflights['Arrival_Delay'].skew()) #gives us the skewness indexes of arrival delay\n",
    "print(\"Kurtosis: %f\" % Delayedflights['Arrival_Delay'].kurt()) #gives us the Kurtosis indexes of the arrival delay"
   ]
  },
  {
   "cell_type": "code",
   "execution_count": 88,
   "metadata": {},
   "outputs": [
    {
     "data": {
      "text/html": [
       "<div>\n",
       "<style scoped>\n",
       "    .dataframe tbody tr th:only-of-type {\n",
       "        vertical-align: middle;\n",
       "    }\n",
       "\n",
       "    .dataframe tbody tr th {\n",
       "        vertical-align: top;\n",
       "    }\n",
       "\n",
       "    .dataframe thead th {\n",
       "        text-align: right;\n",
       "    }\n",
       "</style>\n",
       "<table border=\"1\" class=\"dataframe\">\n",
       "  <thead>\n",
       "    <tr style=\"text-align: right;\">\n",
       "      <th>Carrier_Code</th>\n",
       "      <th>9E</th>\n",
       "      <th>AA</th>\n",
       "      <th>AS</th>\n",
       "      <th>B6</th>\n",
       "      <th>DL</th>\n",
       "      <th>EV</th>\n",
       "      <th>F9</th>\n",
       "      <th>G4</th>\n",
       "      <th>HA</th>\n",
       "      <th>MQ</th>\n",
       "      <th>NK</th>\n",
       "      <th>OH</th>\n",
       "      <th>OO</th>\n",
       "      <th>UA</th>\n",
       "      <th>WN</th>\n",
       "      <th>YV</th>\n",
       "      <th>YX</th>\n",
       "    </tr>\n",
       "    <tr>\n",
       "      <th>Month</th>\n",
       "      <th></th>\n",
       "      <th></th>\n",
       "      <th></th>\n",
       "      <th></th>\n",
       "      <th></th>\n",
       "      <th></th>\n",
       "      <th></th>\n",
       "      <th></th>\n",
       "      <th></th>\n",
       "      <th></th>\n",
       "      <th></th>\n",
       "      <th></th>\n",
       "      <th></th>\n",
       "      <th></th>\n",
       "      <th></th>\n",
       "      <th></th>\n",
       "      <th></th>\n",
       "    </tr>\n",
       "  </thead>\n",
       "  <tbody>\n",
       "    <tr>\n",
       "      <th>1</th>\n",
       "      <td>19821</td>\n",
       "      <td>75354</td>\n",
       "      <td>20204</td>\n",
       "      <td>23395</td>\n",
       "      <td>73403</td>\n",
       "      <td>12200</td>\n",
       "      <td>9490</td>\n",
       "      <td>6694</td>\n",
       "      <td>6785</td>\n",
       "      <td>23710</td>\n",
       "      <td>15009</td>\n",
       "      <td>22369</td>\n",
       "      <td>61770</td>\n",
       "      <td>46126</td>\n",
       "      <td>107235</td>\n",
       "      <td>17829</td>\n",
       "      <td>24569</td>\n",
       "    </tr>\n",
       "    <tr>\n",
       "      <th>2</th>\n",
       "      <td>17633</td>\n",
       "      <td>70032</td>\n",
       "      <td>18039</td>\n",
       "      <td>21983</td>\n",
       "      <td>67117</td>\n",
       "      <td>10880</td>\n",
       "      <td>8633</td>\n",
       "      <td>7157</td>\n",
       "      <td>6014</td>\n",
       "      <td>21813</td>\n",
       "      <td>13436</td>\n",
       "      <td>20366</td>\n",
       "      <td>56394</td>\n",
       "      <td>43441</td>\n",
       "      <td>94683</td>\n",
       "      <td>15909</td>\n",
       "      <td>22784</td>\n",
       "    </tr>\n",
       "    <tr>\n",
       "      <th>3</th>\n",
       "      <td>22153</td>\n",
       "      <td>78222</td>\n",
       "      <td>21382</td>\n",
       "      <td>25449</td>\n",
       "      <td>84065</td>\n",
       "      <td>12467</td>\n",
       "      <td>9654</td>\n",
       "      <td>10203</td>\n",
       "      <td>6846</td>\n",
       "      <td>26312</td>\n",
       "      <td>17020</td>\n",
       "      <td>23991</td>\n",
       "      <td>68564</td>\n",
       "      <td>52912</td>\n",
       "      <td>113993</td>\n",
       "      <td>18378</td>\n",
       "      <td>26894</td>\n",
       "    </tr>\n",
       "    <tr>\n",
       "      <th>5</th>\n",
       "      <td>20830</td>\n",
       "      <td>78648</td>\n",
       "      <td>22408</td>\n",
       "      <td>24787</td>\n",
       "      <td>85357</td>\n",
       "      <td>8705</td>\n",
       "      <td>11230</td>\n",
       "      <td>8982</td>\n",
       "      <td>7215</td>\n",
       "      <td>27679</td>\n",
       "      <td>17762</td>\n",
       "      <td>24182</td>\n",
       "      <td>70598</td>\n",
       "      <td>53714</td>\n",
       "      <td>113341</td>\n",
       "      <td>18540</td>\n",
       "      <td>27361</td>\n",
       "    </tr>\n",
       "    <tr>\n",
       "      <th>6</th>\n",
       "      <td>21236</td>\n",
       "      <td>76068</td>\n",
       "      <td>23013</td>\n",
       "      <td>24083</td>\n",
       "      <td>86845</td>\n",
       "      <td>9129</td>\n",
       "      <td>11307</td>\n",
       "      <td>10987</td>\n",
       "      <td>7163</td>\n",
       "      <td>27020</td>\n",
       "      <td>17493</td>\n",
       "      <td>24079</td>\n",
       "      <td>70903</td>\n",
       "      <td>53454</td>\n",
       "      <td>112463</td>\n",
       "      <td>18798</td>\n",
       "      <td>26846</td>\n",
       "    </tr>\n",
       "  </tbody>\n",
       "</table>\n",
       "</div>"
      ],
      "text/plain": [
       "Carrier_Code     9E     AA     AS     B6     DL     EV     F9     G4    HA  \\\n",
       "Month                                                                        \n",
       "1             19821  75354  20204  23395  73403  12200   9490   6694  6785   \n",
       "2             17633  70032  18039  21983  67117  10880   8633   7157  6014   \n",
       "3             22153  78222  21382  25449  84065  12467   9654  10203  6846   \n",
       "5             20830  78648  22408  24787  85357   8705  11230   8982  7215   \n",
       "6             21236  76068  23013  24083  86845   9129  11307  10987  7163   \n",
       "\n",
       "Carrier_Code     MQ     NK     OH     OO     UA      WN     YV     YX  \n",
       "Month                                                                  \n",
       "1             23710  15009  22369  61770  46126  107235  17829  24569  \n",
       "2             21813  13436  20366  56394  43441   94683  15909  22784  \n",
       "3             26312  17020  23991  68564  52912  113993  18378  26894  \n",
       "5             27679  17762  24182  70598  53714  113341  18540  27361  \n",
       "6             27020  17493  24079  70903  53454  112463  18798  26846  "
      ]
     },
     "execution_count": 88,
     "metadata": {},
     "output_type": "execute_result"
    }
   ],
   "source": [
    "flights_by_carrier = df.pivot_table(index='Month', columns='Carrier_Code', values='Flight_Number', aggfunc='count')\n",
    "flights_by_carrier.head()"
   ]
  },
  {
   "cell_type": "code",
   "execution_count": 89,
   "metadata": {},
   "outputs": [
    {
     "data": {
      "text/html": [
       "<div>\n",
       "<style scoped>\n",
       "    .dataframe tbody tr th:only-of-type {\n",
       "        vertical-align: middle;\n",
       "    }\n",
       "\n",
       "    .dataframe tbody tr th {\n",
       "        vertical-align: top;\n",
       "    }\n",
       "\n",
       "    .dataframe thead th {\n",
       "        text-align: right;\n",
       "    }\n",
       "</style>\n",
       "<table border=\"1\" class=\"dataframe\">\n",
       "  <thead>\n",
       "    <tr style=\"text-align: right;\">\n",
       "      <th>Month</th>\n",
       "      <th>1</th>\n",
       "      <th>2</th>\n",
       "      <th>3</th>\n",
       "      <th>5</th>\n",
       "      <th>6</th>\n",
       "      <th>7</th>\n",
       "      <th>8</th>\n",
       "      <th>9</th>\n",
       "      <th>10</th>\n",
       "      <th>11</th>\n",
       "      <th>12</th>\n",
       "    </tr>\n",
       "  </thead>\n",
       "  <tbody>\n",
       "    <tr>\n",
       "      <th>Actual_Arrival_Time</th>\n",
       "      <td>1484.411454</td>\n",
       "      <td>1484.591675</td>\n",
       "      <td>1473.719904</td>\n",
       "      <td>1457.633327</td>\n",
       "      <td>1442.386336</td>\n",
       "      <td>1439.404596</td>\n",
       "      <td>1449.148259</td>\n",
       "      <td>1471.822964</td>\n",
       "      <td>1478.075480</td>\n",
       "      <td>1472.586063</td>\n",
       "      <td>1475.807827</td>\n",
       "    </tr>\n",
       "    <tr>\n",
       "      <th>Actual_departure_time</th>\n",
       "      <td>1331.830093</td>\n",
       "      <td>1335.638468</td>\n",
       "      <td>1337.911954</td>\n",
       "      <td>1336.727078</td>\n",
       "      <td>1340.281789</td>\n",
       "      <td>1335.440459</td>\n",
       "      <td>1334.051857</td>\n",
       "      <td>1327.863669</td>\n",
       "      <td>1328.592734</td>\n",
       "      <td>1330.923044</td>\n",
       "      <td>1332.735957</td>\n",
       "    </tr>\n",
       "    <tr>\n",
       "      <th>Actual_elapsed_time</th>\n",
       "      <td>138.610077</td>\n",
       "      <td>139.499270</td>\n",
       "      <td>137.588820</td>\n",
       "      <td>136.251471</td>\n",
       "      <td>137.654720</td>\n",
       "      <td>136.769889</td>\n",
       "      <td>136.273147</td>\n",
       "      <td>134.149109</td>\n",
       "      <td>133.943714</td>\n",
       "      <td>136.310305</td>\n",
       "      <td>138.583747</td>\n",
       "    </tr>\n",
       "    <tr>\n",
       "      <th>Air_Time</th>\n",
       "      <td>112.694461</td>\n",
       "      <td>113.293482</td>\n",
       "      <td>113.103034</td>\n",
       "      <td>111.528657</td>\n",
       "      <td>112.056733</td>\n",
       "      <td>111.459666</td>\n",
       "      <td>110.572536</td>\n",
       "      <td>109.527906</td>\n",
       "      <td>109.430618</td>\n",
       "      <td>111.182232</td>\n",
       "      <td>113.391165</td>\n",
       "    </tr>\n",
       "    <tr>\n",
       "      <th>Arrival_Delay</th>\n",
       "      <td>13.654539</td>\n",
       "      <td>17.064703</td>\n",
       "      <td>12.164191</td>\n",
       "      <td>15.268918</td>\n",
       "      <td>18.944001</td>\n",
       "      <td>16.990512</td>\n",
       "      <td>15.783681</td>\n",
       "      <td>11.591981</td>\n",
       "      <td>11.003601</td>\n",
       "      <td>13.170264</td>\n",
       "      <td>12.308557</td>\n",
       "    </tr>\n",
       "    <tr>\n",
       "      <th>Arrival_Hour</th>\n",
       "      <td>14.537343</td>\n",
       "      <td>14.538415</td>\n",
       "      <td>14.428566</td>\n",
       "      <td>14.268135</td>\n",
       "      <td>14.114620</td>\n",
       "      <td>14.084965</td>\n",
       "      <td>14.181624</td>\n",
       "      <td>14.412356</td>\n",
       "      <td>14.475795</td>\n",
       "      <td>14.420028</td>\n",
       "      <td>14.450851</td>\n",
       "    </tr>\n",
       "    <tr>\n",
       "      <th>CC</th>\n",
       "      <td>2.080457</td>\n",
       "      <td>2.085772</td>\n",
       "      <td>2.106330</td>\n",
       "      <td>2.101606</td>\n",
       "      <td>2.106267</td>\n",
       "      <td>2.105381</td>\n",
       "      <td>2.100329</td>\n",
       "      <td>2.119999</td>\n",
       "      <td>2.111299</td>\n",
       "      <td>2.115020</td>\n",
       "      <td>2.120672</td>\n",
       "    </tr>\n",
       "    <tr>\n",
       "      <th>Cancellation_Code</th>\n",
       "      <td>0.000000</td>\n",
       "      <td>0.000000</td>\n",
       "      <td>0.000000</td>\n",
       "      <td>0.000000</td>\n",
       "      <td>0.000000</td>\n",
       "      <td>0.000000</td>\n",
       "      <td>0.000000</td>\n",
       "      <td>0.000000</td>\n",
       "      <td>0.000000</td>\n",
       "      <td>0.000000</td>\n",
       "      <td>0.000000</td>\n",
       "    </tr>\n",
       "    <tr>\n",
       "      <th>Cancelled</th>\n",
       "      <td>0.000000</td>\n",
       "      <td>0.000000</td>\n",
       "      <td>0.000000</td>\n",
       "      <td>0.000000</td>\n",
       "      <td>0.000000</td>\n",
       "      <td>0.000000</td>\n",
       "      <td>0.000000</td>\n",
       "      <td>0.000000</td>\n",
       "      <td>0.000000</td>\n",
       "      <td>0.000000</td>\n",
       "      <td>0.000000</td>\n",
       "    </tr>\n",
       "    <tr>\n",
       "      <th>Carrier_Delay</th>\n",
       "      <td>3.738057</td>\n",
       "      <td>4.748992</td>\n",
       "      <td>3.879746</td>\n",
       "      <td>4.060640</td>\n",
       "      <td>5.077792</td>\n",
       "      <td>4.772949</td>\n",
       "      <td>4.392318</td>\n",
       "      <td>3.129564</td>\n",
       "      <td>3.127243</td>\n",
       "      <td>3.633771</td>\n",
       "      <td>3.640958</td>\n",
       "    </tr>\n",
       "    <tr>\n",
       "      <th>Day_Of_Month</th>\n",
       "      <td>15.782154</td>\n",
       "      <td>14.690553</td>\n",
       "      <td>16.122201</td>\n",
       "      <td>15.980170</td>\n",
       "      <td>15.595696</td>\n",
       "      <td>16.292234</td>\n",
       "      <td>15.818324</td>\n",
       "      <td>15.720430</td>\n",
       "      <td>15.839950</td>\n",
       "      <td>15.485376</td>\n",
       "      <td>16.081123</td>\n",
       "    </tr>\n",
       "    <tr>\n",
       "      <th>Day_Of_Week</th>\n",
       "      <td>3.838159</td>\n",
       "      <td>3.914432</td>\n",
       "      <td>4.137794</td>\n",
       "      <td>3.930870</td>\n",
       "      <td>4.096174</td>\n",
       "      <td>3.763844</td>\n",
       "      <td>4.043460</td>\n",
       "      <td>4.071448</td>\n",
       "      <td>3.746899</td>\n",
       "      <td>3.986599</td>\n",
       "      <td>4.062506</td>\n",
       "    </tr>\n",
       "    <tr>\n",
       "      <th>Departure_Hour</th>\n",
       "      <td>12.984815</td>\n",
       "      <td>12.981161</td>\n",
       "      <td>13.050255</td>\n",
       "      <td>13.035972</td>\n",
       "      <td>13.060536</td>\n",
       "      <td>13.050862</td>\n",
       "      <td>13.029908</td>\n",
       "      <td>12.979972</td>\n",
       "      <td>12.981207</td>\n",
       "      <td>12.982362</td>\n",
       "      <td>13.002027</td>\n",
       "    </tr>\n",
       "    <tr>\n",
       "      <th>Departure_delay</th>\n",
       "      <td>13.175626</td>\n",
       "      <td>16.318364</td>\n",
       "      <td>12.332908</td>\n",
       "      <td>15.052710</td>\n",
       "      <td>18.489918</td>\n",
       "      <td>17.041728</td>\n",
       "      <td>15.617294</td>\n",
       "      <td>11.035115</td>\n",
       "      <td>10.420768</td>\n",
       "      <td>12.571476</td>\n",
       "      <td>12.154556</td>\n",
       "    </tr>\n",
       "    <tr>\n",
       "      <th>Distance</th>\n",
       "      <td>802.395135</td>\n",
       "      <td>801.290440</td>\n",
       "      <td>807.853849</td>\n",
       "      <td>799.995495</td>\n",
       "      <td>809.853917</td>\n",
       "      <td>814.830579</td>\n",
       "      <td>805.053650</td>\n",
       "      <td>794.820078</td>\n",
       "      <td>787.900199</td>\n",
       "      <td>792.911965</td>\n",
       "      <td>810.828807</td>\n",
       "    </tr>\n",
       "    <tr>\n",
       "      <th>Diverted</th>\n",
       "      <td>0.000000</td>\n",
       "      <td>0.000000</td>\n",
       "      <td>0.000000</td>\n",
       "      <td>0.000000</td>\n",
       "      <td>0.000000</td>\n",
       "      <td>0.000000</td>\n",
       "      <td>0.000000</td>\n",
       "      <td>0.000000</td>\n",
       "      <td>0.000000</td>\n",
       "      <td>0.000000</td>\n",
       "      <td>0.000000</td>\n",
       "    </tr>\n",
       "    <tr>\n",
       "      <th>Flight_Number</th>\n",
       "      <td>2522.229453</td>\n",
       "      <td>2490.414779</td>\n",
       "      <td>2553.317454</td>\n",
       "      <td>2514.250210</td>\n",
       "      <td>2580.686788</td>\n",
       "      <td>2550.554861</td>\n",
       "      <td>2519.921024</td>\n",
       "      <td>2834.074950</td>\n",
       "      <td>2574.282816</td>\n",
       "      <td>2611.727292</td>\n",
       "      <td>2652.083022</td>\n",
       "    </tr>\n",
       "    <tr>\n",
       "      <th>Flights</th>\n",
       "      <td>1.000000</td>\n",
       "      <td>1.000000</td>\n",
       "      <td>1.000000</td>\n",
       "      <td>1.000000</td>\n",
       "      <td>1.000000</td>\n",
       "      <td>1.000000</td>\n",
       "      <td>1.000000</td>\n",
       "      <td>1.000000</td>\n",
       "      <td>1.000000</td>\n",
       "      <td>1.000000</td>\n",
       "      <td>1.000000</td>\n",
       "    </tr>\n",
       "    <tr>\n",
       "      <th>Late_Aircraft_Arrival_Delay</th>\n",
       "      <td>4.638733</td>\n",
       "      <td>6.190380</td>\n",
       "      <td>4.540621</td>\n",
       "      <td>5.785735</td>\n",
       "      <td>7.444123</td>\n",
       "      <td>6.411732</td>\n",
       "      <td>5.882317</td>\n",
       "      <td>3.943431</td>\n",
       "      <td>3.857865</td>\n",
       "      <td>4.679903</td>\n",
       "      <td>4.449743</td>\n",
       "    </tr>\n",
       "    <tr>\n",
       "      <th>National_Aviation_System_Delay</th>\n",
       "      <td>3.441020</td>\n",
       "      <td>3.917562</td>\n",
       "      <td>2.259388</td>\n",
       "      <td>3.485202</td>\n",
       "      <td>4.307955</td>\n",
       "      <td>3.767946</td>\n",
       "      <td>3.742489</td>\n",
       "      <td>2.905388</td>\n",
       "      <td>2.485293</td>\n",
       "      <td>3.073265</td>\n",
       "      <td>2.552535</td>\n",
       "    </tr>\n",
       "    <tr>\n",
       "      <th>Scheduled_Arrival_time</th>\n",
       "      <td>1502.683478</td>\n",
       "      <td>1503.089934</td>\n",
       "      <td>1488.958455</td>\n",
       "      <td>1484.184419</td>\n",
       "      <td>1476.519238</td>\n",
       "      <td>1472.080793</td>\n",
       "      <td>1477.532127</td>\n",
       "      <td>1488.925095</td>\n",
       "      <td>1490.949274</td>\n",
       "      <td>1488.176625</td>\n",
       "      <td>1492.589614</td>\n",
       "    </tr>\n",
       "    <tr>\n",
       "      <th>Scheduled_departure_time</th>\n",
       "      <td>1325.775726</td>\n",
       "      <td>1325.419444</td>\n",
       "      <td>1332.472847</td>\n",
       "      <td>1330.605602</td>\n",
       "      <td>1333.179018</td>\n",
       "      <td>1332.306326</td>\n",
       "      <td>1330.226374</td>\n",
       "      <td>1324.934289</td>\n",
       "      <td>1325.017159</td>\n",
       "      <td>1325.441564</td>\n",
       "      <td>1327.510973</td>\n",
       "    </tr>\n",
       "    <tr>\n",
       "      <th>Scheduled_elapsed_time</th>\n",
       "      <td>144.032387</td>\n",
       "      <td>144.029027</td>\n",
       "      <td>143.381286</td>\n",
       "      <td>141.198803</td>\n",
       "      <td>141.723141</td>\n",
       "      <td>142.134456</td>\n",
       "      <td>141.352376</td>\n",
       "      <td>138.675703</td>\n",
       "      <td>138.052080</td>\n",
       "      <td>140.447593</td>\n",
       "      <td>144.175184</td>\n",
       "    </tr>\n",
       "    <tr>\n",
       "      <th>Security_Delay</th>\n",
       "      <td>0.014782</td>\n",
       "      <td>0.035035</td>\n",
       "      <td>0.016504</td>\n",
       "      <td>0.012072</td>\n",
       "      <td>0.039767</td>\n",
       "      <td>0.016675</td>\n",
       "      <td>0.017459</td>\n",
       "      <td>0.034237</td>\n",
       "      <td>0.011603</td>\n",
       "      <td>0.016199</td>\n",
       "      <td>0.020468</td>\n",
       "    </tr>\n",
       "    <tr>\n",
       "      <th>Status</th>\n",
       "      <td>0.351194</td>\n",
       "      <td>0.433779</td>\n",
       "      <td>0.334093</td>\n",
       "      <td>0.392506</td>\n",
       "      <td>0.474520</td>\n",
       "      <td>0.411061</td>\n",
       "      <td>0.399012</td>\n",
       "      <td>0.311495</td>\n",
       "      <td>0.312437</td>\n",
       "      <td>0.362241</td>\n",
       "      <td>0.353777</td>\n",
       "    </tr>\n",
       "    <tr>\n",
       "      <th>Taxi-In_Time</th>\n",
       "      <td>7.594261</td>\n",
       "      <td>7.714842</td>\n",
       "      <td>7.424676</td>\n",
       "      <td>7.708716</td>\n",
       "      <td>7.987355</td>\n",
       "      <td>8.019443</td>\n",
       "      <td>8.046057</td>\n",
       "      <td>7.618674</td>\n",
       "      <td>7.476705</td>\n",
       "      <td>7.531241</td>\n",
       "      <td>7.557416</td>\n",
       "    </tr>\n",
       "    <tr>\n",
       "      <th>Taxi-Out_Time</th>\n",
       "      <td>18.321355</td>\n",
       "      <td>18.490945</td>\n",
       "      <td>17.061110</td>\n",
       "      <td>17.014099</td>\n",
       "      <td>17.610631</td>\n",
       "      <td>17.290781</td>\n",
       "      <td>17.654554</td>\n",
       "      <td>17.002528</td>\n",
       "      <td>17.036392</td>\n",
       "      <td>17.596832</td>\n",
       "      <td>17.635166</td>\n",
       "    </tr>\n",
       "    <tr>\n",
       "      <th>Total_Delay</th>\n",
       "      <td>26.830166</td>\n",
       "      <td>33.383067</td>\n",
       "      <td>24.497099</td>\n",
       "      <td>30.321628</td>\n",
       "      <td>37.433920</td>\n",
       "      <td>34.032241</td>\n",
       "      <td>31.400974</td>\n",
       "      <td>22.627096</td>\n",
       "      <td>21.424369</td>\n",
       "      <td>25.741740</td>\n",
       "      <td>24.463112</td>\n",
       "    </tr>\n",
       "    <tr>\n",
       "      <th>Weather_Delay</th>\n",
       "      <td>0.823342</td>\n",
       "      <td>1.090087</td>\n",
       "      <td>0.457084</td>\n",
       "      <td>0.942099</td>\n",
       "      <td>1.014268</td>\n",
       "      <td>1.090800</td>\n",
       "      <td>0.800412</td>\n",
       "      <td>0.654898</td>\n",
       "      <td>0.449500</td>\n",
       "      <td>0.623188</td>\n",
       "      <td>0.555369</td>\n",
       "    </tr>\n",
       "    <tr>\n",
       "      <th>Wheels-Off_Time</th>\n",
       "      <td>1358.428880</td>\n",
       "      <td>1361.970146</td>\n",
       "      <td>1361.847641</td>\n",
       "      <td>1360.075497</td>\n",
       "      <td>1362.111352</td>\n",
       "      <td>1356.961063</td>\n",
       "      <td>1356.210007</td>\n",
       "      <td>1352.309078</td>\n",
       "      <td>1353.548331</td>\n",
       "      <td>1355.898299</td>\n",
       "      <td>1357.453891</td>\n",
       "    </tr>\n",
       "    <tr>\n",
       "      <th>Wheels-On_Time</th>\n",
       "      <td>1479.114022</td>\n",
       "      <td>1480.151429</td>\n",
       "      <td>1469.586066</td>\n",
       "      <td>1454.490428</td>\n",
       "      <td>1440.065068</td>\n",
       "      <td>1436.913927</td>\n",
       "      <td>1445.804821</td>\n",
       "      <td>1466.234659</td>\n",
       "      <td>1472.408735</td>\n",
       "      <td>1467.854664</td>\n",
       "      <td>1470.843930</td>\n",
       "    </tr>\n",
       "    <tr>\n",
       "      <th>Year</th>\n",
       "      <td>2019.000000</td>\n",
       "      <td>2019.000000</td>\n",
       "      <td>2019.000000</td>\n",
       "      <td>2019.000000</td>\n",
       "      <td>2019.000000</td>\n",
       "      <td>2019.000000</td>\n",
       "      <td>2019.000000</td>\n",
       "      <td>2018.000000</td>\n",
       "      <td>2018.000000</td>\n",
       "      <td>2018.000000</td>\n",
       "      <td>2018.000000</td>\n",
       "    </tr>\n",
       "  </tbody>\n",
       "</table>\n",
       "</div>"
      ],
      "text/plain": [
       "Month                                    1            2            3   \\\n",
       "Actual_Arrival_Time             1484.411454  1484.591675  1473.719904   \n",
       "Actual_departure_time           1331.830093  1335.638468  1337.911954   \n",
       "Actual_elapsed_time              138.610077   139.499270   137.588820   \n",
       "Air_Time                         112.694461   113.293482   113.103034   \n",
       "Arrival_Delay                     13.654539    17.064703    12.164191   \n",
       "Arrival_Hour                      14.537343    14.538415    14.428566   \n",
       "CC                                 2.080457     2.085772     2.106330   \n",
       "Cancellation_Code                  0.000000     0.000000     0.000000   \n",
       "Cancelled                          0.000000     0.000000     0.000000   \n",
       "Carrier_Delay                      3.738057     4.748992     3.879746   \n",
       "Day_Of_Month                      15.782154    14.690553    16.122201   \n",
       "Day_Of_Week                        3.838159     3.914432     4.137794   \n",
       "Departure_Hour                    12.984815    12.981161    13.050255   \n",
       "Departure_delay                   13.175626    16.318364    12.332908   \n",
       "Distance                         802.395135   801.290440   807.853849   \n",
       "Diverted                           0.000000     0.000000     0.000000   \n",
       "Flight_Number                   2522.229453  2490.414779  2553.317454   \n",
       "Flights                            1.000000     1.000000     1.000000   \n",
       "Late_Aircraft_Arrival_Delay        4.638733     6.190380     4.540621   \n",
       "National_Aviation_System_Delay     3.441020     3.917562     2.259388   \n",
       "Scheduled_Arrival_time          1502.683478  1503.089934  1488.958455   \n",
       "Scheduled_departure_time        1325.775726  1325.419444  1332.472847   \n",
       "Scheduled_elapsed_time           144.032387   144.029027   143.381286   \n",
       "Security_Delay                     0.014782     0.035035     0.016504   \n",
       "Status                             0.351194     0.433779     0.334093   \n",
       "Taxi-In_Time                       7.594261     7.714842     7.424676   \n",
       "Taxi-Out_Time                     18.321355    18.490945    17.061110   \n",
       "Total_Delay                       26.830166    33.383067    24.497099   \n",
       "Weather_Delay                      0.823342     1.090087     0.457084   \n",
       "Wheels-Off_Time                 1358.428880  1361.970146  1361.847641   \n",
       "Wheels-On_Time                  1479.114022  1480.151429  1469.586066   \n",
       "Year                            2019.000000  2019.000000  2019.000000   \n",
       "\n",
       "Month                                    5            6            7   \\\n",
       "Actual_Arrival_Time             1457.633327  1442.386336  1439.404596   \n",
       "Actual_departure_time           1336.727078  1340.281789  1335.440459   \n",
       "Actual_elapsed_time              136.251471   137.654720   136.769889   \n",
       "Air_Time                         111.528657   112.056733   111.459666   \n",
       "Arrival_Delay                     15.268918    18.944001    16.990512   \n",
       "Arrival_Hour                      14.268135    14.114620    14.084965   \n",
       "CC                                 2.101606     2.106267     2.105381   \n",
       "Cancellation_Code                  0.000000     0.000000     0.000000   \n",
       "Cancelled                          0.000000     0.000000     0.000000   \n",
       "Carrier_Delay                      4.060640     5.077792     4.772949   \n",
       "Day_Of_Month                      15.980170    15.595696    16.292234   \n",
       "Day_Of_Week                        3.930870     4.096174     3.763844   \n",
       "Departure_Hour                    13.035972    13.060536    13.050862   \n",
       "Departure_delay                   15.052710    18.489918    17.041728   \n",
       "Distance                         799.995495   809.853917   814.830579   \n",
       "Diverted                           0.000000     0.000000     0.000000   \n",
       "Flight_Number                   2514.250210  2580.686788  2550.554861   \n",
       "Flights                            1.000000     1.000000     1.000000   \n",
       "Late_Aircraft_Arrival_Delay        5.785735     7.444123     6.411732   \n",
       "National_Aviation_System_Delay     3.485202     4.307955     3.767946   \n",
       "Scheduled_Arrival_time          1484.184419  1476.519238  1472.080793   \n",
       "Scheduled_departure_time        1330.605602  1333.179018  1332.306326   \n",
       "Scheduled_elapsed_time           141.198803   141.723141   142.134456   \n",
       "Security_Delay                     0.012072     0.039767     0.016675   \n",
       "Status                             0.392506     0.474520     0.411061   \n",
       "Taxi-In_Time                       7.708716     7.987355     8.019443   \n",
       "Taxi-Out_Time                     17.014099    17.610631    17.290781   \n",
       "Total_Delay                       30.321628    37.433920    34.032241   \n",
       "Weather_Delay                      0.942099     1.014268     1.090800   \n",
       "Wheels-Off_Time                 1360.075497  1362.111352  1356.961063   \n",
       "Wheels-On_Time                  1454.490428  1440.065068  1436.913927   \n",
       "Year                            2019.000000  2019.000000  2019.000000   \n",
       "\n",
       "Month                                    8            9            10  \\\n",
       "Actual_Arrival_Time             1449.148259  1471.822964  1478.075480   \n",
       "Actual_departure_time           1334.051857  1327.863669  1328.592734   \n",
       "Actual_elapsed_time              136.273147   134.149109   133.943714   \n",
       "Air_Time                         110.572536   109.527906   109.430618   \n",
       "Arrival_Delay                     15.783681    11.591981    11.003601   \n",
       "Arrival_Hour                      14.181624    14.412356    14.475795   \n",
       "CC                                 2.100329     2.119999     2.111299   \n",
       "Cancellation_Code                  0.000000     0.000000     0.000000   \n",
       "Cancelled                          0.000000     0.000000     0.000000   \n",
       "Carrier_Delay                      4.392318     3.129564     3.127243   \n",
       "Day_Of_Month                      15.818324    15.720430    15.839950   \n",
       "Day_Of_Week                        4.043460     4.071448     3.746899   \n",
       "Departure_Hour                    13.029908    12.979972    12.981207   \n",
       "Departure_delay                   15.617294    11.035115    10.420768   \n",
       "Distance                         805.053650   794.820078   787.900199   \n",
       "Diverted                           0.000000     0.000000     0.000000   \n",
       "Flight_Number                   2519.921024  2834.074950  2574.282816   \n",
       "Flights                            1.000000     1.000000     1.000000   \n",
       "Late_Aircraft_Arrival_Delay        5.882317     3.943431     3.857865   \n",
       "National_Aviation_System_Delay     3.742489     2.905388     2.485293   \n",
       "Scheduled_Arrival_time          1477.532127  1488.925095  1490.949274   \n",
       "Scheduled_departure_time        1330.226374  1324.934289  1325.017159   \n",
       "Scheduled_elapsed_time           141.352376   138.675703   138.052080   \n",
       "Security_Delay                     0.017459     0.034237     0.011603   \n",
       "Status                             0.399012     0.311495     0.312437   \n",
       "Taxi-In_Time                       8.046057     7.618674     7.476705   \n",
       "Taxi-Out_Time                     17.654554    17.002528    17.036392   \n",
       "Total_Delay                       31.400974    22.627096    21.424369   \n",
       "Weather_Delay                      0.800412     0.654898     0.449500   \n",
       "Wheels-Off_Time                 1356.210007  1352.309078  1353.548331   \n",
       "Wheels-On_Time                  1445.804821  1466.234659  1472.408735   \n",
       "Year                            2019.000000  2018.000000  2018.000000   \n",
       "\n",
       "Month                                    11           12  \n",
       "Actual_Arrival_Time             1472.586063  1475.807827  \n",
       "Actual_departure_time           1330.923044  1332.735957  \n",
       "Actual_elapsed_time              136.310305   138.583747  \n",
       "Air_Time                         111.182232   113.391165  \n",
       "Arrival_Delay                     13.170264    12.308557  \n",
       "Arrival_Hour                      14.420028    14.450851  \n",
       "CC                                 2.115020     2.120672  \n",
       "Cancellation_Code                  0.000000     0.000000  \n",
       "Cancelled                          0.000000     0.000000  \n",
       "Carrier_Delay                      3.633771     3.640958  \n",
       "Day_Of_Month                      15.485376    16.081123  \n",
       "Day_Of_Week                        3.986599     4.062506  \n",
       "Departure_Hour                    12.982362    13.002027  \n",
       "Departure_delay                   12.571476    12.154556  \n",
       "Distance                         792.911965   810.828807  \n",
       "Diverted                           0.000000     0.000000  \n",
       "Flight_Number                   2611.727292  2652.083022  \n",
       "Flights                            1.000000     1.000000  \n",
       "Late_Aircraft_Arrival_Delay        4.679903     4.449743  \n",
       "National_Aviation_System_Delay     3.073265     2.552535  \n",
       "Scheduled_Arrival_time          1488.176625  1492.589614  \n",
       "Scheduled_departure_time        1325.441564  1327.510973  \n",
       "Scheduled_elapsed_time           140.447593   144.175184  \n",
       "Security_Delay                     0.016199     0.020468  \n",
       "Status                             0.362241     0.353777  \n",
       "Taxi-In_Time                       7.531241     7.557416  \n",
       "Taxi-Out_Time                     17.596832    17.635166  \n",
       "Total_Delay                       25.741740    24.463112  \n",
       "Weather_Delay                      0.623188     0.555369  \n",
       "Wheels-Off_Time                 1355.898299  1357.453891  \n",
       "Wheels-On_Time                  1467.854664  1470.843930  \n",
       "Year                            2018.000000  2018.000000  "
      ]
     },
     "execution_count": 89,
     "metadata": {},
     "output_type": "execute_result"
    }
   ],
   "source": [
    "df.pivot_table(columns='Month')"
   ]
  },
  {
   "cell_type": "code",
   "execution_count": 90,
   "metadata": {},
   "outputs": [],
   "source": [
    "delays_list = ['Carrier_Code','Weather_Delay','Late_Aircraft_Arrival_Delay','National_Aviation_System_Delay','Security_Delay']\n",
    "flight_delays_by_day = df.pivot_table(index='Month', values=delays_list, aggfunc='sum')"
   ]
  },
  {
   "cell_type": "markdown",
   "metadata": {},
   "source": [
    "### Relative Distribution of Delays"
   ]
  },
  {
   "cell_type": "markdown",
   "metadata": {},
   "source": [
    "The Graph shows various causes of delays oveer a period of time and we can observe that the maximum number of delays have occured during the month of June"
   ]
  },
  {
   "cell_type": "code",
   "execution_count": 96,
   "metadata": {},
   "outputs": [
    {
     "data": {
      "image/png": "[encoded data removed]",
      "text/plain": [
       "<Figure size 1152x432 with 1 Axes>"
      ]
     },
     "metadata": {},
     "output_type": "display_data"
    }
   ],
   "source": [
    "flight_delays_by_day.plot(kind='area', figsize=[16,6], stacked=True, colormap='autumn') # area plot\n",
    "plt.xlabel('Month')\n",
    "plt.ylabel('Count')\n",
    "plt.title('Relative Distribution of Delays')\n",
    "plt.legend()\n",
    "plt.show()"
   ]
  },
  {
   "cell_type": "code",
   "execution_count": 97,
   "metadata": {},
   "outputs": [
    {
     "data": {
      "image/png": "[encoded data removed]",
      "text/plain": [
       "<Figure size 1440x576 with 2 Axes>"
      ]
     },
     "metadata": {},
     "output_type": "display_data"
    }
   ],
   "source": [
    "f,ax=plt.subplots(1,2,figsize=(20,8))\n",
    "Delayedflights[['Month','Total_Delay']].groupby(['Month']).mean().plot(ax=ax[0])\n",
    "ax[0].set_title('Average delay by month')\n",
    "Delayedflights[['Month','Total_Delay']].groupby(['Month']).sum().plot(ax=ax[1])\n",
    "ax[1].set_title('Number of minutes delayed by month')\n",
    "plt.show()"
   ]
  },
  {
   "cell_type": "markdown",
   "metadata": {},
   "source": [
    "### Corelation matix:"
   ]
  },
  {
   "cell_type": "code",
   "execution_count": 99,
   "metadata": {},
   "outputs": [
    {
     "data": {
      "image/png": "[encoded data removed]",
      "text/plain": [
       "<Figure size 432x288 with 1 Axes>"
      ]
     },
     "metadata": {},
     "output_type": "display_data"
    }
   ],
   "source": [
    "df = Delayedflights.filter(['Month','Carrier_Delay','Weather_Delay','Late_Aircraft_Arrival_Delay','National_Aviation_System_Delay','Security_Delay'], axis=1)\n",
    "df = df.groupby('Month')['Late_Aircraft_Arrival_Delay','Carrier_Delay','Weather_Delay','National_Aviation_System_Delay','Security_Delay'].sum().plot()\n",
    "df.legend(loc='upper center', bbox_to_anchor=(0.5, 1.25), ncol=3, fancybox=True, shadow=True)\n",
    "plt.xlabel('Month')\n",
    "plt.ylabel('Delays')\n",
    "plt.show()"
   ]
  },
  {
   "cell_type": "markdown",
   "metadata": {},
   "source": [
    "The correlation matrix identifies three main variables for delays: Late Aircraft Delay, Carrier Delay and NAS Delay. The graph corroborates this assumption, showing how those three variables create most of delays during the year."
   ]
  },
  {
   "cell_type": "markdown",
   "metadata": {},
   "source": [
    "## Delays v/s Airlines"
   ]
  },
  {
   "cell_type": "code",
   "execution_count": 20,
   "metadata": {},
   "outputs": [
    {
     "data": {
      "image/png": "[encoded data removed]",
      "text/plain": [
       "<Figure size 432x288 with 1 Axes>"
      ]
     },
     "metadata": {
      "needs_background": "light"
     },
     "output_type": "display_data"
    }
   ],
   "source": [
    "df['Airlines'].value_counts()[:20].plot(kind='barh') #creating bargraph for delays vs the airlines\n",
    "plt.xlabel('count of delays') #Naming the X axis\n",
    "plt.ylabel('Airlines')        #Naming the Y axis\n",
    "plt.title('Delays v/s Airlines') #Naming the title\n",
    "plt.show() # printing the output"
   ]
  },
  {
   "cell_type": "markdown",
   "metadata": {},
   "source": [
    "### Delayed flights by carrier"
   ]
  },
  {
   "cell_type": "markdown",
   "metadata": {},
   "source": [
    "Here, you can see airlines 'Southwest Airlines' has maximum delays in the past one year"
   ]
  },
  {
   "cell_type": "code",
   "execution_count": 21,
   "metadata": {},
   "outputs": [
    {
     "data": {
      "image/png": "[encoded data removed]",
      "text/plain": [
       "<Figure size 1440x576 with 2 Axes>"
      ]
     },
     "metadata": {
      "needs_background": "light"
     },
     "output_type": "display_data"
    }
   ],
   "source": [
    "#creating the barplot and boxplot of delayed flights by carrier\n",
    "f,ax=plt.subplots(1,2,figsize=(20,8))\n",
    "sns.barplot('Carrier_Code','Carrier_Delay', data=Delayedflights,ax=ax[0]) #gives us the barplot of delayed flights\n",
    "ax[0].set_title('Average Delay by Carrier') #naming the title of the barplot\n",
    "sns.boxplot('Carrier_Code','Carrier_Delay', data=Delayedflights,ax=ax[1]) #gives us the boxplot of delayed flights\n",
    "ax[1].set_title('Delay Distribution by Carrier') #naming the title of boxplot \n",
    "plt.close(2)\n",
    "plt.show()\n"
   ]
  },
  {
   "cell_type": "markdown",
   "metadata": {},
   "source": [
    "### Delayed flights by the origin airport"
   ]
  },
  {
   "cell_type": "code",
   "execution_count": 22,
   "metadata": {},
   "outputs": [
    {
     "data": {
      "image/png": "[encoded data removed]",
      "text/plain": [
       "<Figure size 1440x576 with 2 Axes>"
      ]
     },
     "metadata": {
      "needs_background": "light"
     },
     "output_type": "display_data"
    }
   ],
   "source": [
    "#Filtering the delayed flights by the origin airport for analysis\n",
    "ListOfAirports = Delayedflights[(Delayedflights.Origin_Airport == 'ATL') | (Delayedflights.Origin_Airport == 'LAX') | (Delayedflights.Origin_Airport == 'SFO')]\n",
    "f,ax=plt.subplots(1,2,figsize=(20,8)) #creating the plots\n",
    "sns.barplot('Origin_Airport','National_Aviation_System_Delay', data=ListOfAirports,ax=ax[0]) # creating a bargraph\n",
    "ax[0].set_title('Average Delay by Origin Airport') #naming the title\n",
    "sns.boxplot('Origin_Airport','National_Aviation_System_Delay', data=ListOfAirports,ax=ax[1])# creating a boxplot\n",
    "ax[1].set_title('Delay Distribution by Origin Airport') #naming the boxplot\n",
    "plt.close(2)\n",
    "plt.show() # giving us the output of the graph"
   ]
  },
  {
   "cell_type": "markdown",
   "metadata": {},
   "source": [
    "### Flight arrival time performance:"
   ]
  },
  {
   "cell_type": "code",
   "execution_count": 23,
   "metadata": {},
   "outputs": [
    {
     "data": {
      "image/png": "[encoded data removed]",
      "text/plain": [
       "<Figure size 1440x576 with 2 Axes>"
      ]
     },
     "metadata": {
      "needs_background": "light"
     },
     "output_type": "display_data"
    },
    {
     "name": "stdout",
     "output_type": "stream",
     "text": [
      "Status represents whether the flight was on time (0), slightly delayed (1), highly delayed (2), or cancelled (3)\n"
     ]
    }
   ],
   "source": [
    "#creating plot to show the status of the flight arrival time performance \n",
    "f,ax=plt.subplots(1,2,figsize=(20,8))\n",
    "df['Status'].value_counts().plot.pie(autopct='%1.1f%%',ax=ax[0],shadow=True)\n",
    "ax[0].set_title('Status') #name of the title\n",
    "ax[0].set_ylabel('') #name of the y axis\n",
    "sns.countplot('Status',order = df['Status'].value_counts().index, data=df,ax=ax[1])\n",
    "ax[1].set_title('Status') #name of the title \n",
    "plt.show()\n",
    "\n",
    "print('Status represents whether the flight was on time (0), slightly delayed (1), highly delayed (2), or cancelled (3)')"
   ]
  },
  {
   "cell_type": "code",
   "execution_count": 24,
   "metadata": {},
   "outputs": [
    {
     "data": {
      "text/plain": [
       "6583208"
      ]
     },
     "execution_count": 24,
     "metadata": {},
     "output_type": "execute_result"
    }
   ],
   "source": [
    "#Total number of flights in our dataset:\n",
    "len(df.index)"
   ]
  },
  {
   "cell_type": "code",
   "execution_count": 25,
   "metadata": {},
   "outputs": [
    {
     "data": {
      "text/plain": [
       "11594.90410958904"
      ]
     },
     "execution_count": 25,
     "metadata": {},
     "output_type": "execute_result"
    }
   ],
   "source": [
    "#Average number of flights per day in 2019:\n",
    "len(df[df['Year']==2019].index)/365"
   ]
  },
  {
   "cell_type": "code",
   "execution_count": 26,
   "metadata": {},
   "outputs": [
    {
     "data": {
      "text/plain": [
       "0.1902997748210295"
      ]
     },
     "execution_count": 26,
     "metadata": {},
     "output_type": "execute_result"
    }
   ],
   "source": [
    "#Percent of flights with delays greater than 15 minutes:\n",
    "len(df[df['Arrival_Delay']>15].index)/len(df.index)"
   ]
  },
  {
   "cell_type": "code",
   "execution_count": 27,
   "metadata": {},
   "outputs": [
    {
     "data": {
      "text/html": [
       "<div>\n",
       "<style scoped>\n",
       "    .dataframe tbody tr th:only-of-type {\n",
       "        vertical-align: middle;\n",
       "    }\n",
       "\n",
       "    .dataframe tbody tr th {\n",
       "        vertical-align: top;\n",
       "    }\n",
       "\n",
       "    .dataframe thead th {\n",
       "        text-align: right;\n",
       "    }\n",
       "</style>\n",
       "<table border=\"1\" class=\"dataframe\">\n",
       "  <thead>\n",
       "    <tr style=\"text-align: right;\">\n",
       "      <th></th>\n",
       "      <th>Year</th>\n",
       "      <th>Month</th>\n",
       "      <th>Day_Of_Month</th>\n",
       "      <th>Day_Of_Week</th>\n",
       "      <th>Flight_Date</th>\n",
       "      <th>Carrier_Code</th>\n",
       "      <th>Tail_Number</th>\n",
       "      <th>Flight_Number</th>\n",
       "      <th>Origin_Airport</th>\n",
       "      <th>Origin_City</th>\n",
       "      <th>...</th>\n",
       "      <th>Weather_Delay</th>\n",
       "      <th>National_Aviation_System_Delay</th>\n",
       "      <th>Security_Delay</th>\n",
       "      <th>Late_Aircraft_Arrival_Delay</th>\n",
       "      <th>Airlines</th>\n",
       "      <th>Departure_Hour</th>\n",
       "      <th>Arrival_Hour</th>\n",
       "      <th>Total_Delay</th>\n",
       "      <th>Status</th>\n",
       "      <th>CC</th>\n",
       "    </tr>\n",
       "  </thead>\n",
       "  <tbody>\n",
       "    <tr>\n",
       "      <th>6544859</th>\n",
       "      <td>2018</td>\n",
       "      <td>9</td>\n",
       "      <td>1</td>\n",
       "      <td>6</td>\n",
       "      <td>2018-09-01</td>\n",
       "      <td>AA</td>\n",
       "      <td>N187US</td>\n",
       "      <td>646</td>\n",
       "      <td>PHX</td>\n",
       "      <td>Phoenix, AZ</td>\n",
       "      <td>...</td>\n",
       "      <td>0.0</td>\n",
       "      <td>0.0</td>\n",
       "      <td>0.0</td>\n",
       "      <td>0.0</td>\n",
       "      <td>American Airlines</td>\n",
       "      <td>6</td>\n",
       "      <td>14</td>\n",
       "      <td>2.0</td>\n",
       "      <td>0.0</td>\n",
       "      <td>1.0</td>\n",
       "    </tr>\n",
       "    <tr>\n",
       "      <th>6642407</th>\n",
       "      <td>2018</td>\n",
       "      <td>9</td>\n",
       "      <td>1</td>\n",
       "      <td>6</td>\n",
       "      <td>2018-09-01</td>\n",
       "      <td>UA</td>\n",
       "      <td>N57868</td>\n",
       "      <td>223</td>\n",
       "      <td>SFO</td>\n",
       "      <td>San Francisco, CA</td>\n",
       "      <td>...</td>\n",
       "      <td>0.0</td>\n",
       "      <td>0.0</td>\n",
       "      <td>0.0</td>\n",
       "      <td>0.0</td>\n",
       "      <td>United Air Lines</td>\n",
       "      <td>10</td>\n",
       "      <td>14</td>\n",
       "      <td>5.0</td>\n",
       "      <td>0.0</td>\n",
       "      <td>3.0</td>\n",
       "    </tr>\n",
       "    <tr>\n",
       "      <th>6642408</th>\n",
       "      <td>2018</td>\n",
       "      <td>9</td>\n",
       "      <td>1</td>\n",
       "      <td>6</td>\n",
       "      <td>2018-09-01</td>\n",
       "      <td>UA</td>\n",
       "      <td>N427UA</td>\n",
       "      <td>221</td>\n",
       "      <td>IAD</td>\n",
       "      <td>Washington, DC</td>\n",
       "      <td>...</td>\n",
       "      <td>0.0</td>\n",
       "      <td>29.0</td>\n",
       "      <td>0.0</td>\n",
       "      <td>0.0</td>\n",
       "      <td>United Air Lines</td>\n",
       "      <td>12</td>\n",
       "      <td>14</td>\n",
       "      <td>62.0</td>\n",
       "      <td>2.0</td>\n",
       "      <td>3.0</td>\n",
       "    </tr>\n",
       "    <tr>\n",
       "      <th>6642409</th>\n",
       "      <td>2018</td>\n",
       "      <td>9</td>\n",
       "      <td>1</td>\n",
       "      <td>6</td>\n",
       "      <td>2018-09-01</td>\n",
       "      <td>UA</td>\n",
       "      <td>N17244</td>\n",
       "      <td>221</td>\n",
       "      <td>MCO</td>\n",
       "      <td>Orlando, FL</td>\n",
       "      <td>...</td>\n",
       "      <td>0.0</td>\n",
       "      <td>0.0</td>\n",
       "      <td>0.0</td>\n",
       "      <td>0.0</td>\n",
       "      <td>United Air Lines</td>\n",
       "      <td>9</td>\n",
       "      <td>11</td>\n",
       "      <td>0.0</td>\n",
       "      <td>0.0</td>\n",
       "      <td>3.0</td>\n",
       "    </tr>\n",
       "    <tr>\n",
       "      <th>6642410</th>\n",
       "      <td>2018</td>\n",
       "      <td>9</td>\n",
       "      <td>1</td>\n",
       "      <td>6</td>\n",
       "      <td>2018-09-01</td>\n",
       "      <td>UA</td>\n",
       "      <td>N423UA</td>\n",
       "      <td>220</td>\n",
       "      <td>PIT</td>\n",
       "      <td>Pittsburgh, PA</td>\n",
       "      <td>...</td>\n",
       "      <td>0.0</td>\n",
       "      <td>0.0</td>\n",
       "      <td>0.0</td>\n",
       "      <td>0.0</td>\n",
       "      <td>United Air Lines</td>\n",
       "      <td>17</td>\n",
       "      <td>18</td>\n",
       "      <td>0.0</td>\n",
       "      <td>0.0</td>\n",
       "      <td>3.0</td>\n",
       "    </tr>\n",
       "  </tbody>\n",
       "</table>\n",
       "<p>5 rows × 41 columns</p>\n",
       "</div>"
      ],
      "text/plain": [
       "         Year  Month  Day_Of_Month  Day_Of_Week Flight_Date Carrier_Code  \\\n",
       "6544859  2018      9             1            6  2018-09-01           AA   \n",
       "6642407  2018      9             1            6  2018-09-01           UA   \n",
       "6642408  2018      9             1            6  2018-09-01           UA   \n",
       "6642409  2018      9             1            6  2018-09-01           UA   \n",
       "6642410  2018      9             1            6  2018-09-01           UA   \n",
       "\n",
       "        Tail_Number  Flight_Number Origin_Airport        Origin_City  ...  \\\n",
       "6544859      N187US            646            PHX        Phoenix, AZ  ...   \n",
       "6642407      N57868            223            SFO  San Francisco, CA  ...   \n",
       "6642408      N427UA            221            IAD     Washington, DC  ...   \n",
       "6642409      N17244            221            MCO        Orlando, FL  ...   \n",
       "6642410      N423UA            220            PIT     Pittsburgh, PA  ...   \n",
       "\n",
       "        Weather_Delay National_Aviation_System_Delay  Security_Delay  \\\n",
       "6544859           0.0                            0.0             0.0   \n",
       "6642407           0.0                            0.0             0.0   \n",
       "6642408           0.0                           29.0             0.0   \n",
       "6642409           0.0                            0.0             0.0   \n",
       "6642410           0.0                            0.0             0.0   \n",
       "\n",
       "         Late_Aircraft_Arrival_Delay            Airlines  Departure_Hour  \\\n",
       "6544859                          0.0  American Airlines                6   \n",
       "6642407                          0.0   United Air Lines               10   \n",
       "6642408                          0.0   United Air Lines               12   \n",
       "6642409                          0.0   United Air Lines                9   \n",
       "6642410                          0.0   United Air Lines               17   \n",
       "\n",
       "         Arrival_Hour  Total_Delay  Status   CC  \n",
       "6544859            14          2.0     0.0  1.0  \n",
       "6642407            14          5.0     0.0  3.0  \n",
       "6642408            14         62.0     2.0  3.0  \n",
       "6642409            11          0.0     0.0  3.0  \n",
       "6642410            18          0.0     0.0  3.0  \n",
       "\n",
       "[5 rows x 41 columns]"
      ]
     },
     "execution_count": 27,
     "metadata": {},
     "output_type": "execute_result"
    }
   ],
   "source": [
    "#Head of the data:\n",
    "df.head()"
   ]
  },
  {
   "cell_type": "markdown",
   "metadata": {},
   "source": [
    "#### Visualize the Arrival Delays for top 10 airlines"
   ]
  },
  {
   "cell_type": "code",
   "execution_count": 28,
   "metadata": {},
   "outputs": [
    {
     "data": {
      "text/plain": [
       "array(['American Airlines ', 'United Air Lines ', 'Republic Airlines',\n",
       "       'SkyWest Airlines ', 'JetBlue Airways', 'PSA Airlines ',\n",
       "       'Southwest Airlines ', 'Alaska Airlines ', 'Envoy Air',\n",
       "       'Delta Air Lines '], dtype=object)"
      ]
     },
     "execution_count": 28,
     "metadata": {},
     "output_type": "execute_result"
    }
   ],
   "source": [
    "#Visualize the Arrival Delays for top 10 airlines\n",
    "\n",
    "#Get the list of the 10 biggest Airline Carriers\n",
    "top10_carrier = list(df['Airlines'].value_counts().head(10).index)\n",
    "df_sub = df[df['Airlines'].isin(top10_carrier)][['Airlines','Origin_Airport','Destination_Airport','Arrival_Delay']]\n",
    "df_sub['Airlines'].unique()"
   ]
  },
  {
   "cell_type": "code",
   "execution_count": 29,
   "metadata": {},
   "outputs": [],
   "source": [
    "#Create a copy of the dataframe for bar plot. Delays greater than 30 minutes are clubbed to show the data at the same scale\n",
    "df_temp = df_sub.copy()\n",
    "#All delays greater than 30 minutes are clubbed at 30\n",
    "df_temp['Arrival_Delay'] = df_temp['Arrival_Delay'].apply(lambda x:30 if x>=30 else x)\n",
    "df_temp['Arrival_Delay'] = df_temp['Arrival_Delay'].apply(lambda x:-30 if x<=-30 else x)"
   ]
  },
  {
   "cell_type": "code",
   "execution_count": 30,
   "metadata": {},
   "outputs": [],
   "source": [
    "#Plot percentage of flights delayed more than 30 minutes\n",
    "\n",
    "carrier_delay = pd.DataFrame()\n",
    "\n",
    "for AA in list(df_temp['Airlines'].unique()):\n",
    "    perc_delayed = len(df_temp[(df_temp['Airlines']==AA) & (df_temp['Arrival_Delay']>=30)].index)/len(df_temp[df_temp['Airlines']==AA].index)*100\n",
    "    carrier_delay = carrier_delay.append({'Airlines':AA,'percent_delayed' : perc_delayed},ignore_index=True)\n",
    "\n",
    "# carrier_delay = pd.merge(carrier_delay,carrier_key,how='left',left_on='OP_UNIQUE_CARRIER', right_on='Code')\n",
    "#carrier_delay.drop(['OP_UNIQUE_CARRIER','Code'],axis=1,inplace=True)\n",
    "#carrier_delay.rename(index=str,columns={'OP_UNIQUE_CARRIER':'Airline'},inplace=True)\n",
    "#Sort by percentage delayed\n",
    "carrier_delay.sort_values(by = ['percent_delayed'],ascending=False,inplace=True)"
   ]
  },
  {
   "cell_type": "code",
   "execution_count": 31,
   "metadata": {},
   "outputs": [
    {
     "data": {
      "image/png": "[encoded data removed]",
      "text/plain": [
       "<Figure size 432x288 with 1 Axes>"
      ]
     },
     "metadata": {
      "needs_background": "light"
     },
     "output_type": "display_data"
    }
   ],
   "source": [
    "color_pal = sns.color_palette(\"OrRd\", len(carrier_delay.index))\n",
    "color_pal = color_pal[::-1]\n",
    "\n",
    "plt.figure(figsize=(6, 4))\n",
    "g = sns.barplot(x=\"percent_delayed\", y=\"Airlines\", data=carrier_delay)\n",
    "g.set_ylabel('')\n",
    "g.set_xlabel('Percentage of flights delayed more than 30 minutes')\n",
    "fig = g.get_figure()\n",
    "fig.savefig(\"carrier_delay.png\", bbox_inches='tight')"
   ]
  },
  {
   "cell_type": "markdown",
   "metadata": {},
   "source": [
    "As see above, most flights tend to arrive on or before time. But still, a big chunk of flights do get delayed by more than 15 minutes. Which airlines have the worst records of delays greater than 15 minutes?"
   ]
  },
  {
   "cell_type": "markdown",
   "metadata": {},
   "source": [
    "JetBlue Airways (B6) is the worst performer, with 19.2% of its flights delayed more than 15 minutes, followed by ExpressJet Airlines (EV) 17.5% and Frontier Airlines (F9) 16.45%. Hawaiian Airlines(HA) and Delta Airlines(DL) are the best performers, with only 5.2% and 17.7% of their flights delayed more than 15 minutes respectively."
   ]
  },
  {
   "cell_type": "markdown",
   "metadata": {},
   "source": [
    "# Airports by Traffic"
   ]
  },
  {
   "cell_type": "markdown",
   "metadata": {},
   "source": [
    " We selected the 50 airports with the highest air traffic. Approximately 62% of the entire dataset originated and terminated in the top 50 airports."
   ]
  },
  {
   "cell_type": "code",
   "execution_count": 32,
   "metadata": {},
   "outputs": [],
   "source": [
    "#Create a new dataframe combining the Arrival and Destination Airports in one column\n",
    "df_airport = pd.DataFrame(pd.concat([df['Origin_Airport'],df['Destination_Airport']]),columns={'IATA'})"
   ]
  },
  {
   "cell_type": "code",
   "execution_count": 33,
   "metadata": {},
   "outputs": [],
   "source": [
    "#Select the Top 50 Airports \n",
    "df_top50 = pd.DataFrame(df_airport['IATA'].value_counts().head(50)).reset_index()\n",
    "df_top50.rename(index=str, columns={\"index\":\"IATA\",\"IATA\":\"Count\"},inplace=True)\n",
    "del df_airport"
   ]
  },
  {
   "cell_type": "code",
   "execution_count": 34,
   "metadata": {},
   "outputs": [],
   "source": [
    "#Read Airport data\n",
    "df_airports = pd.read_csv('C:/Users/varap/OneDrive/Documents/Intro to DS/Project/27thNov/RawFiles/airports.dat')"
   ]
  },
  {
   "cell_type": "code",
   "execution_count": 35,
   "metadata": {},
   "outputs": [],
   "source": [
    "df_airports = df_airports[df_airports['Country']=='United States'][['IATA','Latitude','Longitude']].copy()"
   ]
  },
  {
   "cell_type": "code",
   "execution_count": 36,
   "metadata": {},
   "outputs": [],
   "source": [
    "#Merge with the DataFrame containing the list of Top 50 Airports\n",
    "df_top50 = pd.merge(df_top50,df_airports,how='left',on=\"IATA\")"
   ]
  },
  {
   "cell_type": "code",
   "execution_count": 37,
   "metadata": {},
   "outputs": [
    {
     "data": {
      "text/html": [
       "        <script type=\"text/javascript\">\n",
       "        window.PlotlyConfig = {MathJaxConfig: 'local'};\n",
       "        if (window.MathJax) {MathJax.Hub.Config({SVG: {font: \"STIX-Web\"}});}\n",
       "        if (typeof require !== 'undefined') {\n",
       "        require.undef(\"plotly\");\n",
       "        requirejs.config({\n",
       "            paths: {\n",
       "                'plotly': ['https://cdn.plot.ly/plotly-latest.min']\n",
       "            }\n",
       "        });\n",
       "        require(['plotly'], function(Plotly) {\n",
       "            window._Plotly = Plotly;\n",
       "        });\n",
       "        }\n",
       "        </script>\n",
       "        "
      ]
     },
     "metadata": {},
     "output_type": "display_data"
    }
   ],
   "source": [
    "import chart_studio\n",
    "import plotly as py\n",
    "# import chart_studio.plotly as plt\n",
    "from plotly.offline import init_notebook_mode, iplot\n",
    "from plotly.graph_objs import *\n",
    "import plotly.graph_objs as go\n",
    "import ipywidgets as widgets\n",
    "from scipy import special\n",
    "py.offline.init_notebook_mode(connected=True)"
   ]
  },
  {
   "cell_type": "code",
   "execution_count": 38,
   "metadata": {},
   "outputs": [
    {
     "data": {
      "application/vnd.plotly.v1+json": {
       "config": {
        "linkText": "Export to plot.ly",
        "plotlyServerURL": "https://plot.ly",
        "showLink": false
       },
       "data": [
        {
         "lat": [
          33.636719,
          41.978603,
          32.896828,
          39.861655999999996,
          35.214,
          33.942536,
          29.984433000000003,
          33.434278000000006,
          37.618972,
          40.777245
         ],
         "locationmode": "USA-states",
         "lon": [
          -84.428067,
          -87.904842,
          -97.037997,
          -104.67317800000001,
          -80.943139,
          -118.408075,
          -95.341442,
          -112.011583,
          -122.374889,
          -73.872608
         ],
         "marker": {
          "color": "rgb(0,116,217)",
          "line": {
           "color": "rgb(40,40,40)",
           "width": 0.5
          },
          "size": [
           285.8488,
           240.2436,
           208.398,
           176.2156,
           166.8804,
           159.55,
           128.452,
           125.0892,
           124.6944,
           121.2212
          ],
          "sizemode": "area"
         },
         "name": "Top 10 Busiest",
         "text": [
          "ATL<br>Total Flights: 714.622 (Thousands)",
          "ORD<br>Total Flights: 600.609 (Thousands)",
          "DFW<br>Total Flights: 520.995 (Thousands)",
          "DEN<br>Total Flights: 440.539 (Thousands)",
          "CLT<br>Total Flights: 417.201 (Thousands)",
          "LAX<br>Total Flights: 398.875 (Thousands)",
          "IAH<br>Total Flights: 321.13 (Thousands)",
          "PHX<br>Total Flights: 312.723 (Thousands)",
          "SFO<br>Total Flights: 311.736 (Thousands)",
          "LGA<br>Total Flights: 303.053 (Thousands)"
         ],
         "type": "scattergeo"
        },
        {
         "lat": [
          44.881956,
          42.212444,
          42.364346999999995,
          47.449,
          28.429394,
          38.852083,
          40.6925,
          40.639751000000004,
          39.871944,
          40.788389,
          39.175360999999995,
          26.072582999999998,
          32.733556,
          25.79325,
          41.785971999999994,
          36.124472,
          27.975471999999996,
          32.847111,
          38.944533
         ],
         "locationmode": "USA-states",
         "lon": [
          -93.221767,
          -83.353389,
          -71.00518100000001,
          -122.309306,
          -81.308994,
          -77.037722,
          -74.168667,
          -73.778925,
          -75.241139,
          -111.977772,
          -76.66833299999999,
          -80.15275,
          -117.18966699999999,
          -80.29055600000001,
          -87.75241700000001,
          -86.67819399999999,
          -82.53325,
          -96.851778,
          -77.455811
         ],
         "marker": {
          "color": "rgb(255,65,54)",
          "line": {
           "color": "rgb(40,40,40)",
           "width": 0.5
          },
          "size": [
           116.4484,
           114.6872,
           106.054,
           101.7952,
           101.6316,
           98.624,
           97.1964,
           92.7732,
           84.606,
           83.0344,
           74.0936,
           70.1612,
           67.1392,
           63.5916,
           59.5976,
           57.5124,
           54.1492,
           51.4472,
           50.242
          ],
          "sizemode": "area"
         },
         "name": "11-30",
         "text": [
          "MSP<br>Total Flights: 291.121 (Thousands)",
          "DTW<br>Total Flights: 286.718 (Thousands)",
          "BOS<br>Total Flights: 265.135 (Thousands)",
          "SEA<br>Total Flights: 254.488 (Thousands)",
          "MCO<br>Total Flights: 254.079 (Thousands)",
          "DCA<br>Total Flights: 246.56 (Thousands)",
          "EWR<br>Total Flights: 242.991 (Thousands)",
          "JFK<br>Total Flights: 231.933 (Thousands)",
          "PHL<br>Total Flights: 211.515 (Thousands)",
          "SLC<br>Total Flights: 207.586 (Thousands)",
          "BWI<br>Total Flights: 185.234 (Thousands)",
          "FLL<br>Total Flights: 175.403 (Thousands)",
          "SAN<br>Total Flights: 167.848 (Thousands)",
          "MIA<br>Total Flights: 158.979 (Thousands)",
          "MDW<br>Total Flights: 148.994 (Thousands)",
          "BNA<br>Total Flights: 143.781 (Thousands)",
          "TPA<br>Total Flights: 135.373 (Thousands)",
          "DAL<br>Total Flights: 128.618 (Thousands)",
          "IAD<br>Total Flights: 125.605 (Thousands)"
         ],
         "type": "scattergeo"
        },
        {
         "lat": [
          30.194528000000002,
          35.877639,
          45.588722,
          37.3626,
          29.645419,
          29.993389,
          39.297606,
          37.721278000000005,
          21.318680999999998,
          38.695417,
          40.491467,
          41.411689,
          39.048836,
          39.717331,
          39.997972,
          33.675667,
          29.533694,
          30.494056,
          26.536167
         ],
         "locationmode": "USA-states",
         "lon": [
          -97.669889,
          -78.787472,
          -122.5975,
          -121.929022,
          -95.278889,
          -90.258028,
          -94.71390500000001,
          -122.220722,
          -157.922428,
          -121.590778,
          -80.232872,
          -81.84979399999999,
          -84.667822,
          -86.294383,
          -82.891889,
          -117.868222,
          -98.469778,
          -81.687861,
          -81.755167
         ],
         "marker": {
          "color": "rgb(133,20,75)",
          "line": {
           "color": "rgb(40,40,40)",
           "width": 0.5
          },
          "size": [
           47.1688,
           45.0616,
           45.0424,
           43.4456,
           42.6192,
           40.7752,
           39.8116,
           38.122,
           37.0684,
           35.9708,
           35.9604,
           35.3856,
           35.1972,
           35.1716,
           33.7496,
           29.8408,
           29.404,
           24.5268,
           23.332
          ],
          "sizemode": "area"
         },
         "name": "31-50",
         "text": [
          "AUS<br>Total Flights: 117.922 (Thousands)",
          "RDU<br>Total Flights: 112.654 (Thousands)",
          "PDX<br>Total Flights: 112.606 (Thousands)",
          "SJC<br>Total Flights: 108.614 (Thousands)",
          "HOU<br>Total Flights: 106.548 (Thousands)",
          "MSY<br>Total Flights: 101.938 (Thousands)",
          "MCI<br>Total Flights: 99.529 (Thousands)",
          "OAK<br>Total Flights: 95.305 (Thousands)",
          "HNL<br>Total Flights: 92.671 (Thousands)",
          "SMF<br>Total Flights: 89.927 (Thousands)",
          "PIT<br>Total Flights: 89.901 (Thousands)",
          "CLE<br>Total Flights: 88.464 (Thousands)",
          "CVG<br>Total Flights: 87.993 (Thousands)",
          "IND<br>Total Flights: 87.929 (Thousands)",
          "CMH<br>Total Flights: 84.374 (Thousands)",
          "SNA<br>Total Flights: 74.602 (Thousands)",
          "SAT<br>Total Flights: 73.51 (Thousands)",
          "JAX<br>Total Flights: 61.317 (Thousands)",
          "RSW<br>Total Flights: 58.33 (Thousands)"
         ],
         "type": "scattergeo"
        }
       ],
       "layout": {
        "geo": {
         "countrycolor": "rgb(255, 255, 255)",
         "countrywidth": 1,
         "landcolor": "rgb(217, 217, 217)",
         "projection": {
          "type": "albers usa"
         },
         "scope": "usa",
         "showland": true,
         "subunitcolor": "rgb(255, 255, 255)",
         "subunitwidth": 1
        },
        "showlegend": true,
        "template": {
         "data": {
          "bar": [
           {
            "error_x": {
             "color": "#2a3f5f"
            },
            "error_y": {
             "color": "#2a3f5f"
            },
            "marker": {
             "line": {
              "color": "#E5ECF6",
              "width": 0.5
             }
            },
            "type": "bar"
           }
          ],
          "barpolar": [
           {
            "marker": {
             "line": {
              "color": "#E5ECF6",
              "width": 0.5
             }
            },
            "type": "barpolar"
           }
          ],
          "carpet": [
           {
            "aaxis": {
             "endlinecolor": "#2a3f5f",
             "gridcolor": "white",
             "linecolor": "white",
             "minorgridcolor": "white",
             "startlinecolor": "#2a3f5f"
            },
            "baxis": {
             "endlinecolor": "#2a3f5f",
             "gridcolor": "white",
             "linecolor": "white",
             "minorgridcolor": "white",
             "startlinecolor": "#2a3f5f"
            },
            "type": "carpet"
           }
          ],
          "choropleth": [
           {
            "colorbar": {
             "outlinewidth": 0,
             "ticks": ""
            },
            "type": "choropleth"
           }
          ],
          "contour": [
           {
            "colorbar": {
             "outlinewidth": 0,
             "ticks": ""
            },
            "colorscale": [
             [
              0,
              "#0d0887"
             ],
             [
              0.1111111111111111,
              "#46039f"
             ],
             [
              0.2222222222222222,
              "#7201a8"
             ],
             [
              0.3333333333333333,
              "#9c179e"
             ],
             [
              0.4444444444444444,
              "#bd3786"
             ],
             [
              0.5555555555555556,
              "#d8576b"
             ],
             [
              0.6666666666666666,
              "#ed7953"
             ],
             [
              0.7777777777777778,
              "#fb9f3a"
             ],
             [
              0.8888888888888888,
              "#fdca26"
             ],
             [
              1,
              "#f0f921"
             ]
            ],
            "type": "contour"
           }
          ],
          "contourcarpet": [
           {
            "colorbar": {
             "outlinewidth": 0,
             "ticks": ""
            },
            "type": "contourcarpet"
           }
          ],
          "heatmap": [
           {
            "colorbar": {
             "outlinewidth": 0,
             "ticks": ""
            },
            "colorscale": [
             [
              0,
              "#0d0887"
             ],
             [
              0.1111111111111111,
              "#46039f"
             ],
             [
              0.2222222222222222,
              "#7201a8"
             ],
             [
              0.3333333333333333,
              "#9c179e"
             ],
             [
              0.4444444444444444,
              "#bd3786"
             ],
             [
              0.5555555555555556,
              "#d8576b"
             ],
             [
              0.6666666666666666,
              "#ed7953"
             ],
             [
              0.7777777777777778,
              "#fb9f3a"
             ],
             [
              0.8888888888888888,
              "#fdca26"
             ],
             [
              1,
              "#f0f921"
             ]
            ],
            "type": "heatmap"
           }
          ],
          "heatmapgl": [
           {
            "colorbar": {
             "outlinewidth": 0,
             "ticks": ""
            },
            "colorscale": [
             [
              0,
              "#0d0887"
             ],
             [
              0.1111111111111111,
              "#46039f"
             ],
             [
              0.2222222222222222,
              "#7201a8"
             ],
             [
              0.3333333333333333,
              "#9c179e"
             ],
             [
              0.4444444444444444,
              "#bd3786"
             ],
             [
              0.5555555555555556,
              "#d8576b"
             ],
             [
              0.6666666666666666,
              "#ed7953"
             ],
             [
              0.7777777777777778,
              "#fb9f3a"
             ],
             [
              0.8888888888888888,
              "#fdca26"
             ],
             [
              1,
              "#f0f921"
             ]
            ],
            "type": "heatmapgl"
           }
          ],
          "histogram": [
           {
            "marker": {
             "colorbar": {
              "outlinewidth": 0,
              "ticks": ""
             }
            },
            "type": "histogram"
           }
          ],
          "histogram2d": [
           {
            "colorbar": {
             "outlinewidth": 0,
             "ticks": ""
            },
            "colorscale": [
             [
              0,
              "#0d0887"
             ],
             [
              0.1111111111111111,
              "#46039f"
             ],
             [
              0.2222222222222222,
              "#7201a8"
             ],
             [
              0.3333333333333333,
              "#9c179e"
             ],
             [
              0.4444444444444444,
              "#bd3786"
             ],
             [
              0.5555555555555556,
              "#d8576b"
             ],
             [
              0.6666666666666666,
              "#ed7953"
             ],
             [
              0.7777777777777778,
              "#fb9f3a"
             ],
             [
              0.8888888888888888,
              "#fdca26"
             ],
             [
              1,
              "#f0f921"
             ]
            ],
            "type": "histogram2d"
           }
          ],
          "histogram2dcontour": [
           {
            "colorbar": {
             "outlinewidth": 0,
             "ticks": ""
            },
            "colorscale": [
             [
              0,
              "#0d0887"
             ],
             [
              0.1111111111111111,
              "#46039f"
             ],
             [
              0.2222222222222222,
              "#7201a8"
             ],
             [
              0.3333333333333333,
              "#9c179e"
             ],
             [
              0.4444444444444444,
              "#bd3786"
             ],
             [
              0.5555555555555556,
              "#d8576b"
             ],
             [
              0.6666666666666666,
              "#ed7953"
             ],
             [
              0.7777777777777778,
              "#fb9f3a"
             ],
             [
              0.8888888888888888,
              "#fdca26"
             ],
             [
              1,
              "#f0f921"
             ]
            ],
            "type": "histogram2dcontour"
           }
          ],
          "mesh3d": [
           {
            "colorbar": {
             "outlinewidth": 0,
             "ticks": ""
            },
            "type": "mesh3d"
           }
          ],
          "parcoords": [
           {
            "line": {
             "colorbar": {
              "outlinewidth": 0,
              "ticks": ""
             }
            },
            "type": "parcoords"
           }
          ],
          "pie": [
           {
            "automargin": true,
            "type": "pie"
           }
          ],
          "scatter": [
           {
            "marker": {
             "colorbar": {
              "outlinewidth": 0,
              "ticks": ""
             }
            },
            "type": "scatter"
           }
          ],
          "scatter3d": [
           {
            "line": {
             "colorbar": {
              "outlinewidth": 0,
              "ticks": ""
             }
            },
            "marker": {
             "colorbar": {
              "outlinewidth": 0,
              "ticks": ""
             }
            },
            "type": "scatter3d"
           }
          ],
          "scattercarpet": [
           {
            "marker": {
             "colorbar": {
              "outlinewidth": 0,
              "ticks": ""
             }
            },
            "type": "scattercarpet"
           }
          ],
          "scattergeo": [
           {
            "marker": {
             "colorbar": {
              "outlinewidth": 0,
              "ticks": ""
             }
            },
            "type": "scattergeo"
           }
          ],
          "scattergl": [
           {
            "marker": {
             "colorbar": {
              "outlinewidth": 0,
              "ticks": ""
             }
            },
            "type": "scattergl"
           }
          ],
          "scattermapbox": [
           {
            "marker": {
             "colorbar": {
              "outlinewidth": 0,
              "ticks": ""
             }
            },
            "type": "scattermapbox"
           }
          ],
          "scatterpolar": [
           {
            "marker": {
             "colorbar": {
              "outlinewidth": 0,
              "ticks": ""
             }
            },
            "type": "scatterpolar"
           }
          ],
          "scatterpolargl": [
           {
            "marker": {
             "colorbar": {
              "outlinewidth": 0,
              "ticks": ""
             }
            },
            "type": "scatterpolargl"
           }
          ],
          "scatterternary": [
           {
            "marker": {
             "colorbar": {
              "outlinewidth": 0,
              "ticks": ""
             }
            },
            "type": "scatterternary"
           }
          ],
          "surface": [
           {
            "colorbar": {
             "outlinewidth": 0,
             "ticks": ""
            },
            "colorscale": [
             [
              0,
              "#0d0887"
             ],
             [
              0.1111111111111111,
              "#46039f"
             ],
             [
              0.2222222222222222,
              "#7201a8"
             ],
             [
              0.3333333333333333,
              "#9c179e"
             ],
             [
              0.4444444444444444,
              "#bd3786"
             ],
             [
              0.5555555555555556,
              "#d8576b"
             ],
             [
              0.6666666666666666,
              "#ed7953"
             ],
             [
              0.7777777777777778,
              "#fb9f3a"
             ],
             [
              0.8888888888888888,
              "#fdca26"
             ],
             [
              1,
              "#f0f921"
             ]
            ],
            "type": "surface"
           }
          ],
          "table": [
           {
            "cells": {
             "fill": {
              "color": "#EBF0F8"
             },
             "line": {
              "color": "white"
             }
            },
            "header": {
             "fill": {
              "color": "#C8D4E3"
             },
             "line": {
              "color": "white"
             }
            },
            "type": "table"
           }
          ]
         },
         "layout": {
          "annotationdefaults": {
           "arrowcolor": "#2a3f5f",
           "arrowhead": 0,
           "arrowwidth": 1
          },
          "coloraxis": {
           "colorbar": {
            "outlinewidth": 0,
            "ticks": ""
           }
          },
          "colorscale": {
           "diverging": [
            [
             0,
             "#8e0152"
            ],
            [
             0.1,
             "#c51b7d"
            ],
            [
             0.2,
             "#de77ae"
            ],
            [
             0.3,
             "#f1b6da"
            ],
            [
             0.4,
             "#fde0ef"
            ],
            [
             0.5,
             "#f7f7f7"
            ],
            [
             0.6,
             "#e6f5d0"
            ],
            [
             0.7,
             "#b8e186"
            ],
            [
             0.8,
             "#7fbc41"
            ],
            [
             0.9,
             "#4d9221"
            ],
            [
             1,
             "#276419"
            ]
           ],
           "sequential": [
            [
             0,
             "#0d0887"
            ],
            [
             0.1111111111111111,
             "#46039f"
            ],
            [
             0.2222222222222222,
             "#7201a8"
            ],
            [
             0.3333333333333333,
             "#9c179e"
            ],
            [
             0.4444444444444444,
             "#bd3786"
            ],
            [
             0.5555555555555556,
             "#d8576b"
            ],
            [
             0.6666666666666666,
             "#ed7953"
            ],
            [
             0.7777777777777778,
             "#fb9f3a"
            ],
            [
             0.8888888888888888,
             "#fdca26"
            ],
            [
             1,
             "#f0f921"
            ]
           ],
           "sequentialminus": [
            [
             0,
             "#0d0887"
            ],
            [
             0.1111111111111111,
             "#46039f"
            ],
            [
             0.2222222222222222,
             "#7201a8"
            ],
            [
             0.3333333333333333,
             "#9c179e"
            ],
            [
             0.4444444444444444,
             "#bd3786"
            ],
            [
             0.5555555555555556,
             "#d8576b"
            ],
            [
             0.6666666666666666,
             "#ed7953"
            ],
            [
             0.7777777777777778,
             "#fb9f3a"
            ],
            [
             0.8888888888888888,
             "#fdca26"
            ],
            [
             1,
             "#f0f921"
            ]
           ]
          },
          "colorway": [
           "#636efa",
           "#EF553B",
           "#00cc96",
           "#ab63fa",
           "#FFA15A",
           "#19d3f3",
           "#FF6692",
           "#B6E880",
           "#FF97FF",
           "#FECB52"
          ],
          "font": {
           "color": "#2a3f5f"
          },
          "geo": {
           "bgcolor": "white",
           "lakecolor": "white",
           "landcolor": "#E5ECF6",
           "showlakes": true,
           "showland": true,
           "subunitcolor": "white"
          },
          "hoverlabel": {
           "align": "left"
          },
          "hovermode": "closest",
          "mapbox": {
           "style": "light"
          },
          "paper_bgcolor": "white",
          "plot_bgcolor": "#E5ECF6",
          "polar": {
           "angularaxis": {
            "gridcolor": "white",
            "linecolor": "white",
            "ticks": ""
           },
           "bgcolor": "#E5ECF6",
           "radialaxis": {
            "gridcolor": "white",
            "linecolor": "white",
            "ticks": ""
           }
          },
          "scene": {
           "xaxis": {
            "backgroundcolor": "#E5ECF6",
            "gridcolor": "white",
            "gridwidth": 2,
            "linecolor": "white",
            "showbackground": true,
            "ticks": "",
            "zerolinecolor": "white"
           },
           "yaxis": {
            "backgroundcolor": "#E5ECF6",
            "gridcolor": "white",
            "gridwidth": 2,
            "linecolor": "white",
            "showbackground": true,
            "ticks": "",
            "zerolinecolor": "white"
           },
           "zaxis": {
            "backgroundcolor": "#E5ECF6",
            "gridcolor": "white",
            "gridwidth": 2,
            "linecolor": "white",
            "showbackground": true,
            "ticks": "",
            "zerolinecolor": "white"
           }
          },
          "shapedefaults": {
           "line": {
            "color": "#2a3f5f"
           }
          },
          "ternary": {
           "aaxis": {
            "gridcolor": "white",
            "linecolor": "white",
            "ticks": ""
           },
           "baxis": {
            "gridcolor": "white",
            "linecolor": "white",
            "ticks": ""
           },
           "bgcolor": "#E5ECF6",
           "caxis": {
            "gridcolor": "white",
            "linecolor": "white",
            "ticks": ""
           }
          },
          "title": {
           "x": 0.05
          },
          "xaxis": {
           "automargin": true,
           "gridcolor": "white",
           "linecolor": "white",
           "ticks": "",
           "title": {
            "standoff": 15
           },
           "zerolinecolor": "white",
           "zerolinewidth": 2
          },
          "yaxis": {
           "automargin": true,
           "gridcolor": "white",
           "linecolor": "white",
           "ticks": "",
           "title": {
            "standoff": 15
           },
           "zerolinecolor": "white",
           "zerolinewidth": 2
          }
         }
        },
        "title": {
         "text": "Top 50 Busiest Airports by Traffic"
        }
       }
      },
      "text/html": [
       "<div>\n",
       "        \n",
       "        \n",
       "            <div id=\"fe6ad524-b409-41dd-827f-1dfeb64dfbf8\" class=\"plotly-graph-div\" style=\"height:525px; width:100%;\"></div>\n",
       "            <script type=\"text/javascript\">\n",
       "                require([\"plotly\"], function(Plotly) {\n",
       "                    window.PLOTLYENV=window.PLOTLYENV || {};\n",
       "                    \n",
       "                if (document.getElementById(\"fe6ad524-b409-41dd-827f-1dfeb64dfbf8\")) {\n",
       "                    Plotly.newPlot(\n",
       "                        'fe6ad524-b409-41dd-827f-1dfeb64dfbf8',\n",
       "                        [{\"lat\": [33.636719, 41.978603, 32.896828, 39.861655999999996, 35.214, 33.942536, 29.984433000000003, 33.434278000000006, 37.618972, 40.777245], \"locationmode\": \"USA-states\", \"lon\": [-84.428067, -87.904842, -97.037997, -104.67317800000001, -80.943139, -118.408075, -95.341442, -112.011583, -122.374889, -73.872608], \"marker\": {\"color\": \"rgb(0,116,217)\", \"line\": {\"color\": \"rgb(40,40,40)\", \"width\": 0.5}, \"size\": [285.8488, 240.2436, 208.398, 176.2156, 166.8804, 159.55, 128.452, 125.0892, 124.6944, 121.2212], \"sizemode\": \"area\"}, \"name\": \"Top 10 Busiest\", \"text\": [\"ATL<br>Total Flights: 714.622 (Thousands)\", \"ORD<br>Total Flights: 600.609 (Thousands)\", \"DFW<br>Total Flights: 520.995 (Thousands)\", \"DEN<br>Total Flights: 440.539 (Thousands)\", \"CLT<br>Total Flights: 417.201 (Thousands)\", \"LAX<br>Total Flights: 398.875 (Thousands)\", \"IAH<br>Total Flights: 321.13 (Thousands)\", \"PHX<br>Total Flights: 312.723 (Thousands)\", \"SFO<br>Total Flights: 311.736 (Thousands)\", \"LGA<br>Total Flights: 303.053 (Thousands)\"], \"type\": \"scattergeo\"}, {\"lat\": [44.881956, 42.212444, 42.364346999999995, 47.449, 28.429394, 38.852083, 40.6925, 40.639751000000004, 39.871944, 40.788389, 39.175360999999995, 26.072582999999998, 32.733556, 25.79325, 41.785971999999994, 36.124472, 27.975471999999996, 32.847111, 38.944533], \"locationmode\": \"USA-states\", \"lon\": [-93.221767, -83.353389, -71.00518100000001, -122.309306, -81.308994, -77.037722, -74.168667, -73.778925, -75.241139, -111.977772, -76.66833299999999, -80.15275, -117.18966699999999, -80.29055600000001, -87.75241700000001, -86.67819399999999, -82.53325, -96.851778, -77.455811], \"marker\": {\"color\": \"rgb(255,65,54)\", \"line\": {\"color\": \"rgb(40,40,40)\", \"width\": 0.5}, \"size\": [116.4484, 114.6872, 106.054, 101.7952, 101.6316, 98.624, 97.1964, 92.7732, 84.606, 83.0344, 74.0936, 70.1612, 67.1392, 63.5916, 59.5976, 57.5124, 54.1492, 51.4472, 50.242], \"sizemode\": \"area\"}, \"name\": \"11-30\", \"text\": [\"MSP<br>Total Flights: 291.121 (Thousands)\", \"DTW<br>Total Flights: 286.718 (Thousands)\", \"BOS<br>Total Flights: 265.135 (Thousands)\", \"SEA<br>Total Flights: 254.488 (Thousands)\", \"MCO<br>Total Flights: 254.079 (Thousands)\", \"DCA<br>Total Flights: 246.56 (Thousands)\", \"EWR<br>Total Flights: 242.991 (Thousands)\", \"JFK<br>Total Flights: 231.933 (Thousands)\", \"PHL<br>Total Flights: 211.515 (Thousands)\", \"SLC<br>Total Flights: 207.586 (Thousands)\", \"BWI<br>Total Flights: 185.234 (Thousands)\", \"FLL<br>Total Flights: 175.403 (Thousands)\", \"SAN<br>Total Flights: 167.848 (Thousands)\", \"MIA<br>Total Flights: 158.979 (Thousands)\", \"MDW<br>Total Flights: 148.994 (Thousands)\", \"BNA<br>Total Flights: 143.781 (Thousands)\", \"TPA<br>Total Flights: 135.373 (Thousands)\", \"DAL<br>Total Flights: 128.618 (Thousands)\", \"IAD<br>Total Flights: 125.605 (Thousands)\"], \"type\": \"scattergeo\"}, {\"lat\": [30.194528000000002, 35.877639, 45.588722, 37.3626, 29.645419, 29.993389, 39.297606, 37.721278000000005, 21.318680999999998, 38.695417, 40.491467, 41.411689, 39.048836, 39.717331, 39.997972, 33.675667, 29.533694, 30.494056, 26.536167], \"locationmode\": \"USA-states\", \"lon\": [-97.669889, -78.787472, -122.5975, -121.929022, -95.278889, -90.258028, -94.71390500000001, -122.220722, -157.922428, -121.590778, -80.232872, -81.84979399999999, -84.667822, -86.294383, -82.891889, -117.868222, -98.469778, -81.687861, -81.755167], \"marker\": {\"color\": \"rgb(133,20,75)\", \"line\": {\"color\": \"rgb(40,40,40)\", \"width\": 0.5}, \"size\": [47.1688, 45.0616, 45.0424, 43.4456, 42.6192, 40.7752, 39.8116, 38.122, 37.0684, 35.9708, 35.9604, 35.3856, 35.1972, 35.1716, 33.7496, 29.8408, 29.404, 24.5268, 23.332], \"sizemode\": \"area\"}, \"name\": \"31-50\", \"text\": [\"AUS<br>Total Flights: 117.922 (Thousands)\", \"RDU<br>Total Flights: 112.654 (Thousands)\", \"PDX<br>Total Flights: 112.606 (Thousands)\", \"SJC<br>Total Flights: 108.614 (Thousands)\", \"HOU<br>Total Flights: 106.548 (Thousands)\", \"MSY<br>Total Flights: 101.938 (Thousands)\", \"MCI<br>Total Flights: 99.529 (Thousands)\", \"OAK<br>Total Flights: 95.305 (Thousands)\", \"HNL<br>Total Flights: 92.671 (Thousands)\", \"SMF<br>Total Flights: 89.927 (Thousands)\", \"PIT<br>Total Flights: 89.901 (Thousands)\", \"CLE<br>Total Flights: 88.464 (Thousands)\", \"CVG<br>Total Flights: 87.993 (Thousands)\", \"IND<br>Total Flights: 87.929 (Thousands)\", \"CMH<br>Total Flights: 84.374 (Thousands)\", \"SNA<br>Total Flights: 74.602 (Thousands)\", \"SAT<br>Total Flights: 73.51 (Thousands)\", \"JAX<br>Total Flights: 61.317 (Thousands)\", \"RSW<br>Total Flights: 58.33 (Thousands)\"], \"type\": \"scattergeo\"}],\n",
       "                        {\"geo\": {\"countrycolor\": \"rgb(255, 255, 255)\", \"countrywidth\": 1, \"landcolor\": \"rgb(217, 217, 217)\", \"projection\": {\"type\": \"albers usa\"}, \"scope\": \"usa\", \"showland\": true, \"subunitcolor\": \"rgb(255, 255, 255)\", \"subunitwidth\": 1}, \"showlegend\": true, \"template\": {\"data\": {\"bar\": [{\"error_x\": {\"color\": \"#2a3f5f\"}, \"error_y\": {\"color\": \"#2a3f5f\"}, \"marker\": {\"line\": {\"color\": \"#E5ECF6\", \"width\": 0.5}}, \"type\": \"bar\"}], \"barpolar\": [{\"marker\": {\"line\": {\"color\": \"#E5ECF6\", \"width\": 0.5}}, \"type\": \"barpolar\"}], \"carpet\": [{\"aaxis\": {\"endlinecolor\": \"#2a3f5f\", \"gridcolor\": \"white\", \"linecolor\": \"white\", \"minorgridcolor\": \"white\", \"startlinecolor\": \"#2a3f5f\"}, \"baxis\": {\"endlinecolor\": \"#2a3f5f\", \"gridcolor\": \"white\", \"linecolor\": \"white\", \"minorgridcolor\": \"white\", \"startlinecolor\": \"#2a3f5f\"}, \"type\": \"carpet\"}], \"choropleth\": [{\"colorbar\": {\"outlinewidth\": 0, \"ticks\": \"\"}, \"type\": \"choropleth\"}], \"contour\": [{\"colorbar\": {\"outlinewidth\": 0, \"ticks\": \"\"}, \"colorscale\": [[0.0, \"#0d0887\"], [0.1111111111111111, \"#46039f\"], [0.2222222222222222, \"#7201a8\"], [0.3333333333333333, \"#9c179e\"], [0.4444444444444444, \"#bd3786\"], [0.5555555555555556, \"#d8576b\"], [0.6666666666666666, \"#ed7953\"], [0.7777777777777778, \"#fb9f3a\"], [0.8888888888888888, \"#fdca26\"], [1.0, \"#f0f921\"]], \"type\": \"contour\"}], \"contourcarpet\": [{\"colorbar\": {\"outlinewidth\": 0, \"ticks\": \"\"}, \"type\": \"contourcarpet\"}], \"heatmap\": [{\"colorbar\": {\"outlinewidth\": 0, \"ticks\": \"\"}, \"colorscale\": [[0.0, \"#0d0887\"], [0.1111111111111111, \"#46039f\"], [0.2222222222222222, \"#7201a8\"], [0.3333333333333333, \"#9c179e\"], [0.4444444444444444, \"#bd3786\"], [0.5555555555555556, \"#d8576b\"], [0.6666666666666666, \"#ed7953\"], [0.7777777777777778, \"#fb9f3a\"], [0.8888888888888888, \"#fdca26\"], [1.0, \"#f0f921\"]], \"type\": \"heatmap\"}], \"heatmapgl\": [{\"colorbar\": {\"outlinewidth\": 0, \"ticks\": \"\"}, \"colorscale\": [[0.0, \"#0d0887\"], [0.1111111111111111, \"#46039f\"], [0.2222222222222222, \"#7201a8\"], [0.3333333333333333, \"#9c179e\"], [0.4444444444444444, \"#bd3786\"], [0.5555555555555556, \"#d8576b\"], [0.6666666666666666, \"#ed7953\"], [0.7777777777777778, \"#fb9f3a\"], [0.8888888888888888, \"#fdca26\"], [1.0, \"#f0f921\"]], \"type\": \"heatmapgl\"}], \"histogram\": [{\"marker\": {\"colorbar\": {\"outlinewidth\": 0, \"ticks\": \"\"}}, \"type\": \"histogram\"}], \"histogram2d\": [{\"colorbar\": {\"outlinewidth\": 0, \"ticks\": \"\"}, \"colorscale\": [[0.0, \"#0d0887\"], [0.1111111111111111, \"#46039f\"], [0.2222222222222222, \"#7201a8\"], [0.3333333333333333, \"#9c179e\"], [0.4444444444444444, \"#bd3786\"], [0.5555555555555556, \"#d8576b\"], [0.6666666666666666, \"#ed7953\"], [0.7777777777777778, \"#fb9f3a\"], [0.8888888888888888, \"#fdca26\"], [1.0, \"#f0f921\"]], \"type\": \"histogram2d\"}], \"histogram2dcontour\": [{\"colorbar\": {\"outlinewidth\": 0, \"ticks\": \"\"}, \"colorscale\": [[0.0, \"#0d0887\"], [0.1111111111111111, \"#46039f\"], [0.2222222222222222, \"#7201a8\"], [0.3333333333333333, \"#9c179e\"], [0.4444444444444444, \"#bd3786\"], [0.5555555555555556, \"#d8576b\"], [0.6666666666666666, \"#ed7953\"], [0.7777777777777778, \"#fb9f3a\"], [0.8888888888888888, \"#fdca26\"], [1.0, \"#f0f921\"]], \"type\": \"histogram2dcontour\"}], \"mesh3d\": [{\"colorbar\": {\"outlinewidth\": 0, \"ticks\": \"\"}, \"type\": \"mesh3d\"}], \"parcoords\": [{\"line\": {\"colorbar\": {\"outlinewidth\": 0, \"ticks\": \"\"}}, \"type\": \"parcoords\"}], \"pie\": [{\"automargin\": true, \"type\": \"pie\"}], \"scatter\": [{\"marker\": {\"colorbar\": {\"outlinewidth\": 0, \"ticks\": \"\"}}, \"type\": \"scatter\"}], \"scatter3d\": [{\"line\": {\"colorbar\": {\"outlinewidth\": 0, \"ticks\": \"\"}}, \"marker\": {\"colorbar\": {\"outlinewidth\": 0, \"ticks\": \"\"}}, \"type\": \"scatter3d\"}], \"scattercarpet\": [{\"marker\": {\"colorbar\": {\"outlinewidth\": 0, \"ticks\": \"\"}}, \"type\": \"scattercarpet\"}], \"scattergeo\": [{\"marker\": {\"colorbar\": {\"outlinewidth\": 0, \"ticks\": \"\"}}, \"type\": \"scattergeo\"}], \"scattergl\": [{\"marker\": {\"colorbar\": {\"outlinewidth\": 0, \"ticks\": \"\"}}, \"type\": \"scattergl\"}], \"scattermapbox\": [{\"marker\": {\"colorbar\": {\"outlinewidth\": 0, \"ticks\": \"\"}}, \"type\": \"scattermapbox\"}], \"scatterpolar\": [{\"marker\": {\"colorbar\": {\"outlinewidth\": 0, \"ticks\": \"\"}}, \"type\": \"scatterpolar\"}], \"scatterpolargl\": [{\"marker\": {\"colorbar\": {\"outlinewidth\": 0, \"ticks\": \"\"}}, \"type\": \"scatterpolargl\"}], \"scatterternary\": [{\"marker\": {\"colorbar\": {\"outlinewidth\": 0, \"ticks\": \"\"}}, \"type\": \"scatterternary\"}], \"surface\": [{\"colorbar\": {\"outlinewidth\": 0, \"ticks\": \"\"}, \"colorscale\": [[0.0, \"#0d0887\"], [0.1111111111111111, \"#46039f\"], [0.2222222222222222, \"#7201a8\"], [0.3333333333333333, \"#9c179e\"], [0.4444444444444444, \"#bd3786\"], [0.5555555555555556, \"#d8576b\"], [0.6666666666666666, \"#ed7953\"], [0.7777777777777778, \"#fb9f3a\"], [0.8888888888888888, \"#fdca26\"], [1.0, \"#f0f921\"]], \"type\": \"surface\"}], \"table\": [{\"cells\": {\"fill\": {\"color\": \"#EBF0F8\"}, \"line\": {\"color\": \"white\"}}, \"header\": {\"fill\": {\"color\": \"#C8D4E3\"}, \"line\": {\"color\": \"white\"}}, \"type\": \"table\"}]}, \"layout\": {\"annotationdefaults\": {\"arrowcolor\": \"#2a3f5f\", \"arrowhead\": 0, \"arrowwidth\": 1}, \"coloraxis\": {\"colorbar\": {\"outlinewidth\": 0, \"ticks\": \"\"}}, \"colorscale\": {\"diverging\": [[0, \"#8e0152\"], [0.1, \"#c51b7d\"], [0.2, \"#de77ae\"], [0.3, \"#f1b6da\"], [0.4, \"#fde0ef\"], [0.5, \"#f7f7f7\"], [0.6, \"#e6f5d0\"], [0.7, \"#b8e186\"], [0.8, \"#7fbc41\"], [0.9, \"#4d9221\"], [1, \"#276419\"]], \"sequential\": [[0.0, \"#0d0887\"], [0.1111111111111111, \"#46039f\"], [0.2222222222222222, \"#7201a8\"], [0.3333333333333333, \"#9c179e\"], [0.4444444444444444, \"#bd3786\"], [0.5555555555555556, \"#d8576b\"], [0.6666666666666666, \"#ed7953\"], [0.7777777777777778, \"#fb9f3a\"], [0.8888888888888888, \"#fdca26\"], [1.0, \"#f0f921\"]], \"sequentialminus\": [[0.0, \"#0d0887\"], [0.1111111111111111, \"#46039f\"], [0.2222222222222222, \"#7201a8\"], [0.3333333333333333, \"#9c179e\"], [0.4444444444444444, \"#bd3786\"], [0.5555555555555556, \"#d8576b\"], [0.6666666666666666, \"#ed7953\"], [0.7777777777777778, \"#fb9f3a\"], [0.8888888888888888, \"#fdca26\"], [1.0, \"#f0f921\"]]}, \"colorway\": [\"#636efa\", \"#EF553B\", \"#00cc96\", \"#ab63fa\", \"#FFA15A\", \"#19d3f3\", \"#FF6692\", \"#B6E880\", \"#FF97FF\", \"#FECB52\"], \"font\": {\"color\": \"#2a3f5f\"}, \"geo\": {\"bgcolor\": \"white\", \"lakecolor\": \"white\", \"landcolor\": \"#E5ECF6\", \"showlakes\": true, \"showland\": true, \"subunitcolor\": \"white\"}, \"hoverlabel\": {\"align\": \"left\"}, \"hovermode\": \"closest\", \"mapbox\": {\"style\": \"light\"}, \"paper_bgcolor\": \"white\", \"plot_bgcolor\": \"#E5ECF6\", \"polar\": {\"angularaxis\": {\"gridcolor\": \"white\", \"linecolor\": \"white\", \"ticks\": \"\"}, \"bgcolor\": \"#E5ECF6\", \"radialaxis\": {\"gridcolor\": \"white\", \"linecolor\": \"white\", \"ticks\": \"\"}}, \"scene\": {\"xaxis\": {\"backgroundcolor\": \"#E5ECF6\", \"gridcolor\": \"white\", \"gridwidth\": 2, \"linecolor\": \"white\", \"showbackground\": true, \"ticks\": \"\", \"zerolinecolor\": \"white\"}, \"yaxis\": {\"backgroundcolor\": \"#E5ECF6\", \"gridcolor\": \"white\", \"gridwidth\": 2, \"linecolor\": \"white\", \"showbackground\": true, \"ticks\": \"\", \"zerolinecolor\": \"white\"}, \"zaxis\": {\"backgroundcolor\": \"#E5ECF6\", \"gridcolor\": \"white\", \"gridwidth\": 2, \"linecolor\": \"white\", \"showbackground\": true, \"ticks\": \"\", \"zerolinecolor\": \"white\"}}, \"shapedefaults\": {\"line\": {\"color\": \"#2a3f5f\"}}, \"ternary\": {\"aaxis\": {\"gridcolor\": \"white\", \"linecolor\": \"white\", \"ticks\": \"\"}, \"baxis\": {\"gridcolor\": \"white\", \"linecolor\": \"white\", \"ticks\": \"\"}, \"bgcolor\": \"#E5ECF6\", \"caxis\": {\"gridcolor\": \"white\", \"linecolor\": \"white\", \"ticks\": \"\"}}, \"title\": {\"x\": 0.05}, \"xaxis\": {\"automargin\": true, \"gridcolor\": \"white\", \"linecolor\": \"white\", \"ticks\": \"\", \"title\": {\"standoff\": 15}, \"zerolinecolor\": \"white\", \"zerolinewidth\": 2}, \"yaxis\": {\"automargin\": true, \"gridcolor\": \"white\", \"linecolor\": \"white\", \"ticks\": \"\", \"title\": {\"standoff\": 15}, \"zerolinecolor\": \"white\", \"zerolinewidth\": 2}}}, \"title\": {\"text\": \"Top 50 Busiest Airports by Traffic\"}},\n",
       "                        {\"responsive\": true}\n",
       "                    ).then(function(){\n",
       "                            \n",
       "var gd = document.getElementById('fe6ad524-b409-41dd-827f-1dfeb64dfbf8');\n",
       "var x = new MutationObserver(function (mutations, observer) {{\n",
       "        var display = window.getComputedStyle(gd).display;\n",
       "        if (!display || display === 'none') {{\n",
       "            console.log([gd, 'removed!']);\n",
       "            Plotly.purge(gd);\n",
       "            observer.disconnect();\n",
       "        }}\n",
       "}});\n",
       "\n",
       "// Listen for the removal of the full notebook cells\n",
       "var notebookContainer = gd.closest('#notebook-container');\n",
       "if (notebookContainer) {{\n",
       "    x.observe(notebookContainer, {childList: true});\n",
       "}}\n",
       "\n",
       "// Listen for the clearing of the current output cell\n",
       "var outputEl = gd.closest('.output');\n",
       "if (outputEl) {{\n",
       "    x.observe(outputEl, {childList: true});\n",
       "}}\n",
       "\n",
       "                        })\n",
       "                };\n",
       "                });\n",
       "            </script>\n",
       "        </div>"
      ]
     },
     "metadata": {},
     "output_type": "display_data"
    }
   ],
   "source": [
    "#Map the Airports as a Bubble map, with size corresponding to Traffic\n",
    "\n",
    "#First create a new columns with Textual information\n",
    "df_top50['text'] = df_top50['IATA'] + '<br>Total Flights: ' + (df_top50['Count']/1e3).astype(str)+' (Thousands)'\n",
    "\n",
    "#Create plot using Plotly\n",
    "limits = [(0,10),(11,30),(31,50)]\n",
    "colors = [\"rgb(0,116,217)\",\"rgb(255,65,54)\",\"rgb(133,20,75)\"]\n",
    "names = [\"Top 10 Busiest\",\"11-30\",\"31-50\"]\n",
    "cities = []\n",
    "scale = 2500\n",
    "\n",
    "for i in range(len(limits)):\n",
    "    lim = limits[i]\n",
    "    df_sub = df_top50[lim[0]:lim[1]]\n",
    "    city = dict(\n",
    "        type = 'scattergeo',\n",
    "        locationmode = 'USA-states',\n",
    "        lon = df_sub['Longitude'],\n",
    "        lat = df_sub['Latitude'],\n",
    "        text = df_sub['text'],\n",
    "        marker = dict(\n",
    "            size = df_sub['Count']/scale,\n",
    "            color = colors[i],\n",
    "            line = dict(width=0.5, color='rgb(40,40,40)'),\n",
    "            sizemode = 'area'\n",
    "        ),\n",
    "        name = names[i] )\n",
    "    cities.append(city)\n",
    "    \n",
    "layout = dict(\n",
    "        title = 'Top 50 Busiest Airports by Traffic',\n",
    "        showlegend = True,\n",
    "        geo = dict(\n",
    "            scope='usa',\n",
    "            projection=dict( type='albers usa' ),\n",
    "            showland = True,\n",
    "            landcolor = 'rgb(217, 217, 217)',\n",
    "            subunitwidth=1,\n",
    "            countrywidth=1,\n",
    "            subunitcolor=\"rgb(255, 255, 255)\",\n",
    "            countrycolor=\"rgb(255, 255, 255)\"\n",
    "        ),\n",
    "    )\n",
    "\n",
    "fig = go.Figure( data=cities, layout=layout )\n",
    "py.offline.iplot(fig)\n",
    "\n",
    "# look how to create credentials for iplot\n"
   ]
  },
  {
   "cell_type": "markdown",
   "metadata": {},
   "source": [
    "The Top 50 airlines by traffic includes the arrival and departure delays."
   ]
  },
  {
   "cell_type": "markdown",
   "metadata": {},
   "source": [
    "### Machine Learning model to predict airline delay"
   ]
  },
  {
   "cell_type": "code",
   "execution_count": 39,
   "metadata": {},
   "outputs": [
    {
     "name": "stderr",
     "output_type": "stream",
     "text": [
      "C:\\Users\\varap\\Anaconda3\\lib\\site-packages\\sklearn\\externals\\joblib\\__init__.py:15: DeprecationWarning:\n",
      "\n",
      "sklearn.externals.joblib is deprecated in 0.21 and will be removed in 0.23. Please import this functionality directly from joblib, which can be installed with: pip install joblib. If this warning is raised when loading pickled models, you may need to re-serialize those models with scikit-learn 0.21+.\n",
      "\n"
     ]
    }
   ],
   "source": [
    "import pandas as pd\n",
    "import numpy as np\n",
    "import time\n",
    "from sklearn.externals import joblib"
   ]
  },
  {
   "cell_type": "code",
   "execution_count": 40,
   "metadata": {},
   "outputs": [],
   "source": [
    "# Considering RUNWAY_TOTAL_TIME as one of the predictor variables as total airplane time in the ground can cause delays"
   ]
  },
  {
   "cell_type": "code",
   "execution_count": 41,
   "metadata": {},
   "outputs": [],
   "source": [
    "df['TOT'] = df['Wheels-On_Time'] - df['Wheels-Off_Time']\n",
    "df['RUNAWAY_TOTAL_TIME'] = df['TOT'].floordiv(100)*60 + df['TOT'] - df['TOT'].floordiv(100)*100- df['Air_Time']"
   ]
  },
  {
   "cell_type": "code",
   "execution_count": 42,
   "metadata": {},
   "outputs": [],
   "source": [
    "# Creating this to consider 'NAS' delay and 'Weather' as one more predictor variable\n",
    "df['Delay_weather/traffic'] = df['National_Aviation_System_Delay'] + df['Weather_Delay']"
   ]
  },
  {
   "cell_type": "code",
   "execution_count": 43,
   "metadata": {},
   "outputs": [],
   "source": [
    "# df['TOTAL_DELAY'] = df['Departure_delay'] + df['Arrival_Delay']"
   ]
  },
  {
   "cell_type": "code",
   "execution_count": 46,
   "metadata": {},
   "outputs": [],
   "source": [
    "df[df['Total_Delay']<0] = 0"
   ]
  },
  {
   "cell_type": "code",
   "execution_count": 47,
   "metadata": {},
   "outputs": [],
   "source": [
    "df_sub = df.copy()"
   ]
  },
  {
   "cell_type": "code",
   "execution_count": 48,
   "metadata": {},
   "outputs": [],
   "source": [
    "df_sub.drop(['Flight_Date','Carrier_Code','Airlines', 'Tail_Number', 'Flight_Number', 'Origin_Airport','Origin_City', 'Destination_Airport', 'Destination_City_Name','Scheduled_departure_time', 'Actual_departure_time', 'Departure_delay','Taxi-Out_Time', 'Taxi-In_Time','Scheduled_Arrival_time', 'Actual_Arrival_Time', 'Arrival_Delay','Cancelled', 'Cancellation_Code', 'Diverted', 'Scheduled_elapsed_time','Flights', 'Distance','Actual_elapsed_time','Flights','Distance','Weather_Delay','National_Aviation_System_Delay','Late_Aircraft_Arrival_Delay','TOT'],axis=1,inplace=True)"
   ]
  },
  {
   "cell_type": "markdown",
   "metadata": {},
   "source": [
    "Above, we have removed all the unwanted columns along with WHEELS_ON, WHEELS_OFF, NAS_DELAY, WEATHER_DELAY as those are made combined into 'RUNAWAY_TOTAL_TIME' and ''Delay_weather/traffic' respectively and also 'DEP_DELAY_NEW' and ARR_DELAY_NEW' as both are combined to give us the total delay taht would act as the dependent variable.Taxi in time also not required because\n",
    "it has been calculated in the Runway total time itself. as Taxi time is the total time of an aircrafts movement on the\n",
    "ground"
   ]
  },
  {
   "cell_type": "code",
   "execution_count": 49,
   "metadata": {},
   "outputs": [
    {
     "data": {
      "text/html": [
       "<div>\n",
       "<style scoped>\n",
       "    .dataframe tbody tr th:only-of-type {\n",
       "        vertical-align: middle;\n",
       "    }\n",
       "\n",
       "    .dataframe tbody tr th {\n",
       "        vertical-align: top;\n",
       "    }\n",
       "\n",
       "    .dataframe thead th {\n",
       "        text-align: right;\n",
       "    }\n",
       "</style>\n",
       "<table border=\"1\" class=\"dataframe\">\n",
       "  <thead>\n",
       "    <tr style=\"text-align: right;\">\n",
       "      <th></th>\n",
       "      <th>Year</th>\n",
       "      <th>Month</th>\n",
       "      <th>Day_Of_Month</th>\n",
       "      <th>Day_Of_Week</th>\n",
       "      <th>Wheels-Off_Time</th>\n",
       "      <th>Wheels-On_Time</th>\n",
       "      <th>Air_Time</th>\n",
       "      <th>Carrier_Delay</th>\n",
       "      <th>Security_Delay</th>\n",
       "      <th>Departure_Hour</th>\n",
       "      <th>Arrival_Hour</th>\n",
       "      <th>Total_Delay</th>\n",
       "      <th>Status</th>\n",
       "      <th>CC</th>\n",
       "      <th>RUNAWAY_TOTAL_TIME</th>\n",
       "      <th>Delay_weather/traffic</th>\n",
       "    </tr>\n",
       "  </thead>\n",
       "  <tbody>\n",
       "    <tr>\n",
       "      <th>6544859</th>\n",
       "      <td>2018</td>\n",
       "      <td>9</td>\n",
       "      <td>1</td>\n",
       "      <td>6</td>\n",
       "      <td>701.0</td>\n",
       "      <td>1417.0</td>\n",
       "      <td>256.0</td>\n",
       "      <td>0.0</td>\n",
       "      <td>0.0</td>\n",
       "      <td>6</td>\n",
       "      <td>14</td>\n",
       "      <td>2.0</td>\n",
       "      <td>0.0</td>\n",
       "      <td>1.0</td>\n",
       "      <td>180.0</td>\n",
       "      <td>0.0</td>\n",
       "    </tr>\n",
       "    <tr>\n",
       "      <th>6642407</th>\n",
       "      <td>2018</td>\n",
       "      <td>9</td>\n",
       "      <td>1</td>\n",
       "      <td>6</td>\n",
       "      <td>1104.0</td>\n",
       "      <td>1401.0</td>\n",
       "      <td>117.0</td>\n",
       "      <td>0.0</td>\n",
       "      <td>0.0</td>\n",
       "      <td>10</td>\n",
       "      <td>14</td>\n",
       "      <td>5.0</td>\n",
       "      <td>0.0</td>\n",
       "      <td>3.0</td>\n",
       "      <td>100.0</td>\n",
       "      <td>0.0</td>\n",
       "    </tr>\n",
       "    <tr>\n",
       "      <th>6642408</th>\n",
       "      <td>2018</td>\n",
       "      <td>9</td>\n",
       "      <td>1</td>\n",
       "      <td>6</td>\n",
       "      <td>1331.0</td>\n",
       "      <td>1356.0</td>\n",
       "      <td>85.0</td>\n",
       "      <td>0.0</td>\n",
       "      <td>0.0</td>\n",
       "      <td>12</td>\n",
       "      <td>14</td>\n",
       "      <td>62.0</td>\n",
       "      <td>2.0</td>\n",
       "      <td>3.0</td>\n",
       "      <td>-60.0</td>\n",
       "      <td>29.0</td>\n",
       "    </tr>\n",
       "    <tr>\n",
       "      <th>6642409</th>\n",
       "      <td>2018</td>\n",
       "      <td>9</td>\n",
       "      <td>1</td>\n",
       "      <td>6</td>\n",
       "      <td>927.0</td>\n",
       "      <td>1108.0</td>\n",
       "      <td>101.0</td>\n",
       "      <td>0.0</td>\n",
       "      <td>0.0</td>\n",
       "      <td>9</td>\n",
       "      <td>11</td>\n",
       "      <td>0.0</td>\n",
       "      <td>0.0</td>\n",
       "      <td>3.0</td>\n",
       "      <td>40.0</td>\n",
       "      <td>0.0</td>\n",
       "    </tr>\n",
       "    <tr>\n",
       "      <th>6642410</th>\n",
       "      <td>2018</td>\n",
       "      <td>9</td>\n",
       "      <td>1</td>\n",
       "      <td>6</td>\n",
       "      <td>1754.0</td>\n",
       "      <td>1757.0</td>\n",
       "      <td>63.0</td>\n",
       "      <td>0.0</td>\n",
       "      <td>0.0</td>\n",
       "      <td>17</td>\n",
       "      <td>18</td>\n",
       "      <td>0.0</td>\n",
       "      <td>0.0</td>\n",
       "      <td>3.0</td>\n",
       "      <td>-60.0</td>\n",
       "      <td>0.0</td>\n",
       "    </tr>\n",
       "  </tbody>\n",
       "</table>\n",
       "</div>"
      ],
      "text/plain": [
       "         Year  Month  Day_Of_Month  Day_Of_Week  Wheels-Off_Time  \\\n",
       "6544859  2018      9             1            6            701.0   \n",
       "6642407  2018      9             1            6           1104.0   \n",
       "6642408  2018      9             1            6           1331.0   \n",
       "6642409  2018      9             1            6            927.0   \n",
       "6642410  2018      9             1            6           1754.0   \n",
       "\n",
       "         Wheels-On_Time  Air_Time  Carrier_Delay  Security_Delay  \\\n",
       "6544859          1417.0     256.0            0.0             0.0   \n",
       "6642407          1401.0     117.0            0.0             0.0   \n",
       "6642408          1356.0      85.0            0.0             0.0   \n",
       "6642409          1108.0     101.0            0.0             0.0   \n",
       "6642410          1757.0      63.0            0.0             0.0   \n",
       "\n",
       "         Departure_Hour  Arrival_Hour  Total_Delay  Status   CC  \\\n",
       "6544859               6            14          2.0     0.0  1.0   \n",
       "6642407              10            14          5.0     0.0  3.0   \n",
       "6642408              12            14         62.0     2.0  3.0   \n",
       "6642409               9            11          0.0     0.0  3.0   \n",
       "6642410              17            18          0.0     0.0  3.0   \n",
       "\n",
       "         RUNAWAY_TOTAL_TIME  Delay_weather/traffic  \n",
       "6544859               180.0                    0.0  \n",
       "6642407               100.0                    0.0  \n",
       "6642408               -60.0                   29.0  \n",
       "6642409                40.0                    0.0  \n",
       "6642410               -60.0                    0.0  "
      ]
     },
     "execution_count": 49,
     "metadata": {},
     "output_type": "execute_result"
    }
   ],
   "source": [
    "#Checking head and tail \n",
    "df_sub.head(5)"
   ]
  },
  {
   "cell_type": "code",
   "execution_count": 50,
   "metadata": {},
   "outputs": [
    {
     "data": {
      "text/html": [
       "<div>\n",
       "<style scoped>\n",
       "    .dataframe tbody tr th:only-of-type {\n",
       "        vertical-align: middle;\n",
       "    }\n",
       "\n",
       "    .dataframe tbody tr th {\n",
       "        vertical-align: top;\n",
       "    }\n",
       "\n",
       "    .dataframe thead th {\n",
       "        text-align: right;\n",
       "    }\n",
       "</style>\n",
       "<table border=\"1\" class=\"dataframe\">\n",
       "  <thead>\n",
       "    <tr style=\"text-align: right;\">\n",
       "      <th></th>\n",
       "      <th>Year</th>\n",
       "      <th>Month</th>\n",
       "      <th>Day_Of_Month</th>\n",
       "      <th>Day_Of_Week</th>\n",
       "      <th>Wheels-Off_Time</th>\n",
       "      <th>Wheels-On_Time</th>\n",
       "      <th>Air_Time</th>\n",
       "      <th>Carrier_Delay</th>\n",
       "      <th>Security_Delay</th>\n",
       "      <th>Departure_Hour</th>\n",
       "      <th>Arrival_Hour</th>\n",
       "      <th>Total_Delay</th>\n",
       "      <th>Status</th>\n",
       "      <th>CC</th>\n",
       "      <th>RUNAWAY_TOTAL_TIME</th>\n",
       "      <th>Delay_weather/traffic</th>\n",
       "    </tr>\n",
       "  </thead>\n",
       "  <tbody>\n",
       "    <tr>\n",
       "      <th>244478</th>\n",
       "      <td>2019</td>\n",
       "      <td>8</td>\n",
       "      <td>31</td>\n",
       "      <td>6</td>\n",
       "      <td>1633.0</td>\n",
       "      <td>1817.0</td>\n",
       "      <td>164.0</td>\n",
       "      <td>16.0</td>\n",
       "      <td>0.0</td>\n",
       "      <td>15</td>\n",
       "      <td>18</td>\n",
       "      <td>52.0</td>\n",
       "      <td>1.0</td>\n",
       "      <td>1.0</td>\n",
       "      <td>-20.0</td>\n",
       "      <td>0.0</td>\n",
       "    </tr>\n",
       "    <tr>\n",
       "      <th>244509</th>\n",
       "      <td>2019</td>\n",
       "      <td>8</td>\n",
       "      <td>31</td>\n",
       "      <td>6</td>\n",
       "      <td>749.0</td>\n",
       "      <td>828.0</td>\n",
       "      <td>99.0</td>\n",
       "      <td>0.0</td>\n",
       "      <td>0.0</td>\n",
       "      <td>7</td>\n",
       "      <td>8</td>\n",
       "      <td>0.0</td>\n",
       "      <td>0.0</td>\n",
       "      <td>1.0</td>\n",
       "      <td>-20.0</td>\n",
       "      <td>0.0</td>\n",
       "    </tr>\n",
       "    <tr>\n",
       "      <th>244540</th>\n",
       "      <td>2019</td>\n",
       "      <td>8</td>\n",
       "      <td>31</td>\n",
       "      <td>6</td>\n",
       "      <td>1613.0</td>\n",
       "      <td>1906.0</td>\n",
       "      <td>353.0</td>\n",
       "      <td>0.0</td>\n",
       "      <td>0.0</td>\n",
       "      <td>16</td>\n",
       "      <td>19</td>\n",
       "      <td>0.0</td>\n",
       "      <td>0.0</td>\n",
       "      <td>1.0</td>\n",
       "      <td>-140.0</td>\n",
       "      <td>0.0</td>\n",
       "    </tr>\n",
       "    <tr>\n",
       "      <th>244638</th>\n",
       "      <td>2019</td>\n",
       "      <td>8</td>\n",
       "      <td>31</td>\n",
       "      <td>6</td>\n",
       "      <td>1623.0</td>\n",
       "      <td>1719.0</td>\n",
       "      <td>56.0</td>\n",
       "      <td>107.0</td>\n",
       "      <td>0.0</td>\n",
       "      <td>14</td>\n",
       "      <td>17</td>\n",
       "      <td>235.0</td>\n",
       "      <td>2.0</td>\n",
       "      <td>1.0</td>\n",
       "      <td>40.0</td>\n",
       "      <td>21.0</td>\n",
       "    </tr>\n",
       "    <tr>\n",
       "      <th>341892</th>\n",
       "      <td>2019</td>\n",
       "      <td>8</td>\n",
       "      <td>31</td>\n",
       "      <td>6</td>\n",
       "      <td>1023.0</td>\n",
       "      <td>1204.0</td>\n",
       "      <td>101.0</td>\n",
       "      <td>0.0</td>\n",
       "      <td>0.0</td>\n",
       "      <td>10</td>\n",
       "      <td>12</td>\n",
       "      <td>3.0</td>\n",
       "      <td>0.0</td>\n",
       "      <td>2.0</td>\n",
       "      <td>40.0</td>\n",
       "      <td>0.0</td>\n",
       "    </tr>\n",
       "  </tbody>\n",
       "</table>\n",
       "</div>"
      ],
      "text/plain": [
       "        Year  Month  Day_Of_Month  Day_Of_Week  Wheels-Off_Time  \\\n",
       "244478  2019      8            31            6           1633.0   \n",
       "244509  2019      8            31            6            749.0   \n",
       "244540  2019      8            31            6           1613.0   \n",
       "244638  2019      8            31            6           1623.0   \n",
       "341892  2019      8            31            6           1023.0   \n",
       "\n",
       "        Wheels-On_Time  Air_Time  Carrier_Delay  Security_Delay  \\\n",
       "244478          1817.0     164.0           16.0             0.0   \n",
       "244509           828.0      99.0            0.0             0.0   \n",
       "244540          1906.0     353.0            0.0             0.0   \n",
       "244638          1719.0      56.0          107.0             0.0   \n",
       "341892          1204.0     101.0            0.0             0.0   \n",
       "\n",
       "        Departure_Hour  Arrival_Hour  Total_Delay  Status   CC  \\\n",
       "244478              15            18         52.0     1.0  1.0   \n",
       "244509               7             8          0.0     0.0  1.0   \n",
       "244540              16            19          0.0     0.0  1.0   \n",
       "244638              14            17        235.0     2.0  1.0   \n",
       "341892              10            12          3.0     0.0  2.0   \n",
       "\n",
       "        RUNAWAY_TOTAL_TIME  Delay_weather/traffic  \n",
       "244478               -20.0                    0.0  \n",
       "244509               -20.0                    0.0  \n",
       "244540              -140.0                    0.0  \n",
       "244638                40.0                   21.0  \n",
       "341892                40.0                    0.0  "
      ]
     },
     "execution_count": 50,
     "metadata": {},
     "output_type": "execute_result"
    }
   ],
   "source": [
    "df_sub.tail(5)"
   ]
  },
  {
   "cell_type": "code",
   "execution_count": 51,
   "metadata": {},
   "outputs": [
    {
     "data": {
      "text/plain": [
       "(6583208, 44)"
      ]
     },
     "execution_count": 51,
     "metadata": {},
     "output_type": "execute_result"
    }
   ],
   "source": [
    "df.shape"
   ]
  },
  {
   "cell_type": "code",
   "execution_count": 52,
   "metadata": {},
   "outputs": [],
   "source": [
    "##### Droping rows with negative values in runway_total_time since it would be incorrect values\n",
    "df_sub.drop(df_sub[df_sub.RUNAWAY_TOTAL_TIME < 0].index, inplace=True)"
   ]
  },
  {
   "cell_type": "code",
   "execution_count": 53,
   "metadata": {},
   "outputs": [
    {
     "data": {
      "text/plain": [
       "(4836965, 16)"
      ]
     },
     "execution_count": 53,
     "metadata": {},
     "output_type": "execute_result"
    }
   ],
   "source": [
    "#Checking shape to see if rows with negative values are gone\n",
    "df_sub.shape"
   ]
  },
  {
   "cell_type": "code",
   "execution_count": 54,
   "metadata": {},
   "outputs": [
    {
     "data": {
      "text/html": [
       "<div>\n",
       "<style scoped>\n",
       "    .dataframe tbody tr th:only-of-type {\n",
       "        vertical-align: middle;\n",
       "    }\n",
       "\n",
       "    .dataframe tbody tr th {\n",
       "        vertical-align: top;\n",
       "    }\n",
       "\n",
       "    .dataframe thead th {\n",
       "        text-align: right;\n",
       "    }\n",
       "</style>\n",
       "<table border=\"1\" class=\"dataframe\">\n",
       "  <thead>\n",
       "    <tr style=\"text-align: right;\">\n",
       "      <th></th>\n",
       "      <th>Year</th>\n",
       "      <th>Month</th>\n",
       "      <th>Day_Of_Month</th>\n",
       "      <th>Day_Of_Week</th>\n",
       "      <th>Wheels-Off_Time</th>\n",
       "      <th>Wheels-On_Time</th>\n",
       "      <th>Air_Time</th>\n",
       "      <th>Carrier_Delay</th>\n",
       "      <th>Security_Delay</th>\n",
       "      <th>Departure_Hour</th>\n",
       "      <th>Arrival_Hour</th>\n",
       "      <th>Total_Delay</th>\n",
       "      <th>Status</th>\n",
       "      <th>CC</th>\n",
       "      <th>RUNAWAY_TOTAL_TIME</th>\n",
       "      <th>Delay_weather/traffic</th>\n",
       "    </tr>\n",
       "  </thead>\n",
       "  <tbody>\n",
       "    <tr>\n",
       "      <th>244201</th>\n",
       "      <td>2019</td>\n",
       "      <td>8</td>\n",
       "      <td>31</td>\n",
       "      <td>6</td>\n",
       "      <td>1345.0</td>\n",
       "      <td>1435.0</td>\n",
       "      <td>50.0</td>\n",
       "      <td>0.0</td>\n",
       "      <td>0.0</td>\n",
       "      <td>13</td>\n",
       "      <td>14</td>\n",
       "      <td>0.0</td>\n",
       "      <td>0.0</td>\n",
       "      <td>1.0</td>\n",
       "      <td>40.0</td>\n",
       "      <td>0.0</td>\n",
       "    </tr>\n",
       "    <tr>\n",
       "      <th>244280</th>\n",
       "      <td>2019</td>\n",
       "      <td>8</td>\n",
       "      <td>31</td>\n",
       "      <td>6</td>\n",
       "      <td>718.0</td>\n",
       "      <td>1232.0</td>\n",
       "      <td>194.0</td>\n",
       "      <td>0.0</td>\n",
       "      <td>0.0</td>\n",
       "      <td>7</td>\n",
       "      <td>12</td>\n",
       "      <td>8.0</td>\n",
       "      <td>0.0</td>\n",
       "      <td>1.0</td>\n",
       "      <td>120.0</td>\n",
       "      <td>0.0</td>\n",
       "    </tr>\n",
       "    <tr>\n",
       "      <th>244395</th>\n",
       "      <td>2019</td>\n",
       "      <td>8</td>\n",
       "      <td>31</td>\n",
       "      <td>6</td>\n",
       "      <td>1356.0</td>\n",
       "      <td>1453.0</td>\n",
       "      <td>57.0</td>\n",
       "      <td>0.0</td>\n",
       "      <td>0.0</td>\n",
       "      <td>13</td>\n",
       "      <td>15</td>\n",
       "      <td>0.0</td>\n",
       "      <td>0.0</td>\n",
       "      <td>1.0</td>\n",
       "      <td>40.0</td>\n",
       "      <td>0.0</td>\n",
       "    </tr>\n",
       "    <tr>\n",
       "      <th>244638</th>\n",
       "      <td>2019</td>\n",
       "      <td>8</td>\n",
       "      <td>31</td>\n",
       "      <td>6</td>\n",
       "      <td>1623.0</td>\n",
       "      <td>1719.0</td>\n",
       "      <td>56.0</td>\n",
       "      <td>107.0</td>\n",
       "      <td>0.0</td>\n",
       "      <td>14</td>\n",
       "      <td>17</td>\n",
       "      <td>235.0</td>\n",
       "      <td>2.0</td>\n",
       "      <td>1.0</td>\n",
       "      <td>40.0</td>\n",
       "      <td>21.0</td>\n",
       "    </tr>\n",
       "    <tr>\n",
       "      <th>341892</th>\n",
       "      <td>2019</td>\n",
       "      <td>8</td>\n",
       "      <td>31</td>\n",
       "      <td>6</td>\n",
       "      <td>1023.0</td>\n",
       "      <td>1204.0</td>\n",
       "      <td>101.0</td>\n",
       "      <td>0.0</td>\n",
       "      <td>0.0</td>\n",
       "      <td>10</td>\n",
       "      <td>12</td>\n",
       "      <td>3.0</td>\n",
       "      <td>0.0</td>\n",
       "      <td>2.0</td>\n",
       "      <td>40.0</td>\n",
       "      <td>0.0</td>\n",
       "    </tr>\n",
       "  </tbody>\n",
       "</table>\n",
       "</div>"
      ],
      "text/plain": [
       "        Year  Month  Day_Of_Month  Day_Of_Week  Wheels-Off_Time  \\\n",
       "244201  2019      8            31            6           1345.0   \n",
       "244280  2019      8            31            6            718.0   \n",
       "244395  2019      8            31            6           1356.0   \n",
       "244638  2019      8            31            6           1623.0   \n",
       "341892  2019      8            31            6           1023.0   \n",
       "\n",
       "        Wheels-On_Time  Air_Time  Carrier_Delay  Security_Delay  \\\n",
       "244201          1435.0      50.0            0.0             0.0   \n",
       "244280          1232.0     194.0            0.0             0.0   \n",
       "244395          1453.0      57.0            0.0             0.0   \n",
       "244638          1719.0      56.0          107.0             0.0   \n",
       "341892          1204.0     101.0            0.0             0.0   \n",
       "\n",
       "        Departure_Hour  Arrival_Hour  Total_Delay  Status   CC  \\\n",
       "244201              13            14          0.0     0.0  1.0   \n",
       "244280               7            12          8.0     0.0  1.0   \n",
       "244395              13            15          0.0     0.0  1.0   \n",
       "244638              14            17        235.0     2.0  1.0   \n",
       "341892              10            12          3.0     0.0  2.0   \n",
       "\n",
       "        RUNAWAY_TOTAL_TIME  Delay_weather/traffic  \n",
       "244201                40.0                    0.0  \n",
       "244280               120.0                    0.0  \n",
       "244395                40.0                    0.0  \n",
       "244638                40.0                   21.0  \n",
       "341892                40.0                    0.0  "
      ]
     },
     "execution_count": 54,
     "metadata": {},
     "output_type": "execute_result"
    }
   ],
   "source": [
    "#Confirming rows with negative values are gone.\n",
    "df_sub.tail()"
   ]
  },
  {
   "cell_type": "code",
   "execution_count": 55,
   "metadata": {},
   "outputs": [],
   "source": [
    "#Defining X and Y to run the OLS model\n",
    "X = df_sub[['Carrier_Delay','Security_Delay','RUNAWAY_TOTAL_TIME','Delay_weather/traffic']]\n",
    "Y = df_sub['Total_Delay']"
   ]
  },
  {
   "cell_type": "code",
   "execution_count": 56,
   "metadata": {},
   "outputs": [
    {
     "data": {
      "text/plain": [
       "Carrier_Delay            1.008268\n",
       "Security_Delay           1.000103\n",
       "RUNAWAY_TOTAL_TIME       1.018827\n",
       "Delay_weather/traffic    1.011761\n",
       "dtype: float64"
      ]
     },
     "execution_count": 56,
     "metadata": {},
     "output_type": "execute_result"
    }
   ],
   "source": [
    "#Checking for Multicollinearity using vif \n",
    "from statsmodels.stats.outliers_influence import variance_inflation_factor\n",
    "from statsmodels.tools.tools import add_constant\n",
    "\n",
    "pd.Series([variance_inflation_factor(X.values, i) \n",
    "               for i in range(X.shape[1])], \n",
    "              index=X.columns)"
   ]
  },
  {
   "cell_type": "markdown",
   "metadata": {},
   "source": [
    "We could see vif is less then 5 for all the predictor variables, so we do not need to worry about multicollinearity"
   ]
  },
  {
   "cell_type": "code",
   "execution_count": 57,
   "metadata": {},
   "outputs": [],
   "source": [
    "#Splitting the dataset into test and train sets\n",
    "from sklearn.model_selection import train_test_split\n",
    "\n",
    "x_train, x_test, y_train, y_test = train_test_split(X, Y, test_size=0.4)"
   ]
  },
  {
   "cell_type": "code",
   "execution_count": 58,
   "metadata": {},
   "outputs": [],
   "source": [
    "import statsmodels.api as sm\n",
    "model = sm.OLS(y_train,x_train)\n",
    "result = model.fit()"
   ]
  },
  {
   "cell_type": "code",
   "execution_count": 59,
   "metadata": {},
   "outputs": [
    {
     "data": {
      "text/plain": [
       "Carrier_Delay            2.118852\n",
       "Security_Delay           2.179489\n",
       "RUNAWAY_TOTAL_TIME       0.103243\n",
       "Delay_weather/traffic    2.009807\n",
       "dtype: float64"
      ]
     },
     "execution_count": 59,
     "metadata": {},
     "output_type": "execute_result"
    }
   ],
   "source": [
    "#Coefficients\n",
    "result.params"
   ]
  },
  {
   "cell_type": "code",
   "execution_count": 60,
   "metadata": {},
   "outputs": [],
   "source": [
    "predictions = result.predict(x_test)"
   ]
  },
  {
   "cell_type": "code",
   "execution_count": 61,
   "metadata": {},
   "outputs": [
    {
     "data": {
      "text/plain": [
       "946132       0.000000\n",
       "2331916      0.000000\n",
       "3819628     10.324296\n",
       "2373155      4.129718\n",
       "5355665      4.129718\n",
       "6706495      4.129718\n",
       "3105653      6.194577\n",
       "2489917      8.475406\n",
       "3676911      0.000000\n",
       "473890      22.713451\n",
       "3923651     16.518873\n",
       "5834871     10.324296\n",
       "2270430      4.129718\n",
       "5744901     42.316054\n",
       "1371749     10.324296\n",
       "6076276      0.000000\n",
       "2345681      0.000000\n",
       "1705259      0.000000\n",
       "5770387      6.194577\n",
       "1365830     65.576414\n",
       "3932931      0.000000\n",
       "2143412     10.324296\n",
       "2643497    180.803659\n",
       "3738004      0.000000\n",
       "4719123      0.000000\n",
       "1047409     10.324296\n",
       "724640       0.000000\n",
       "3606278     10.324296\n",
       "3430455      4.129718\n",
       "2057735    850.853049\n",
       "              ...    \n",
       "4618558      4.129718\n",
       "103012       0.000000\n",
       "1876024      4.129718\n",
       "4009093      0.000000\n",
       "1298688     18.583732\n",
       "4994894      4.129718\n",
       "997259       0.000000\n",
       "5739514     10.324296\n",
       "1017696     64.968096\n",
       "257490       4.129718\n",
       "876926      10.324296\n",
       "6657782      0.000000\n",
       "2609622     16.518873\n",
       "5697360      8.204385\n",
       "6271323      4.129718\n",
       "1883140      0.000000\n",
       "5848139      0.000000\n",
       "3215114      4.129718\n",
       "4629233      4.129718\n",
       "6449352     44.387898\n",
       "6247151     12.389155\n",
       "4757485     16.518873\n",
       "3426450     52.645216\n",
       "1690521      0.000000\n",
       "1065439      0.000000\n",
       "4830882     18.583732\n",
       "2296607      0.000000\n",
       "3290044      0.000000\n",
       "3876959      4.129718\n",
       "763965       4.129718\n",
       "Length: 1934786, dtype: float64"
      ]
     },
     "execution_count": 61,
     "metadata": {},
     "output_type": "execute_result"
    }
   ],
   "source": [
    "# Predictions from the model using x_test data\n",
    "predictions"
   ]
  },
  {
   "cell_type": "code",
   "execution_count": 62,
   "metadata": {},
   "outputs": [
    {
     "data": {
      "text/html": [
       "<table class=\"simpletable\">\n",
       "<caption>OLS Regression Results</caption>\n",
       "<tr>\n",
       "  <th>Dep. Variable:</th>       <td>Total_Delay</td>   <th>  R-squared (uncentered):</th>       <td>   0.720</td>  \n",
       "</tr>\n",
       "<tr>\n",
       "  <th>Model:</th>                   <td>OLS</td>       <th>  Adj. R-squared (uncentered):</th>  <td>   0.720</td>  \n",
       "</tr>\n",
       "<tr>\n",
       "  <th>Method:</th>             <td>Least Squares</td>  <th>  F-statistic:       </th>           <td>1.861e+06</td> \n",
       "</tr>\n",
       "<tr>\n",
       "  <th>Date:</th>             <td>Fri, 13 Dec 2019</td> <th>  Prob (F-statistic):</th>            <td>  0.00</td>   \n",
       "</tr>\n",
       "<tr>\n",
       "  <th>Time:</th>                 <td>19:10:06</td>     <th>  Log-Likelihood:    </th>          <td>-1.5477e+07</td>\n",
       "</tr>\n",
       "<tr>\n",
       "  <th>No. Observations:</th>      <td>2902179</td>     <th>  AIC:               </th>           <td>3.095e+07</td> \n",
       "</tr>\n",
       "<tr>\n",
       "  <th>Df Residuals:</th>          <td>2902175</td>     <th>  BIC:               </th>           <td>3.095e+07</td> \n",
       "</tr>\n",
       "<tr>\n",
       "  <th>Df Model:</th>              <td>     4</td>      <th>                     </th>               <td> </td>     \n",
       "</tr>\n",
       "<tr>\n",
       "  <th>Covariance Type:</th>      <td>nonrobust</td>    <th>                     </th>               <td> </td>     \n",
       "</tr>\n",
       "</table>\n",
       "<table class=\"simpletable\">\n",
       "<tr>\n",
       "            <td></td>               <th>coef</th>     <th>std err</th>      <th>t</th>      <th>P>|t|</th>  <th>[0.025</th>    <th>0.975]</th>  \n",
       "</tr>\n",
       "<tr>\n",
       "  <th>Carrier_Delay</th>         <td>    2.1189</td> <td>    0.001</td> <td> 2090.563</td> <td> 0.000</td> <td>    2.117</td> <td>    2.121</td>\n",
       "</tr>\n",
       "<tr>\n",
       "  <th>Security_Delay</th>        <td>    2.1795</td> <td>    0.018</td> <td>  120.667</td> <td> 0.000</td> <td>    2.144</td> <td>    2.215</td>\n",
       "</tr>\n",
       "<tr>\n",
       "  <th>RUNAWAY_TOTAL_TIME</th>    <td>    0.1032</td> <td>    0.000</td> <td>  231.537</td> <td> 0.000</td> <td>    0.102</td> <td>    0.104</td>\n",
       "</tr>\n",
       "<tr>\n",
       "  <th>Delay_weather/traffic</th> <td>    2.0098</td> <td>    0.001</td> <td> 1602.132</td> <td> 0.000</td> <td>    2.007</td> <td>    2.012</td>\n",
       "</tr>\n",
       "</table>\n",
       "<table class=\"simpletable\">\n",
       "<tr>\n",
       "  <th>Omnibus:</th>       <td>4812539.492</td> <th>  Durbin-Watson:     </th>    <td>   1.971</td>   \n",
       "</tr>\n",
       "<tr>\n",
       "  <th>Prob(Omnibus):</th>   <td> 0.000</td>    <th>  Jarque-Bera (JB):  </th> <td>8417552202.708</td>\n",
       "</tr>\n",
       "<tr>\n",
       "  <th>Skew:</th>            <td>10.913</td>    <th>  Prob(JB):          </th>    <td>    0.00</td>   \n",
       "</tr>\n",
       "<tr>\n",
       "  <th>Kurtosis:</th>        <td>265.933</td>   <th>  Cond. No.          </th>    <td>    41.0</td>   \n",
       "</tr>\n",
       "</table><br/><br/>Warnings:<br/>[1] Standard Errors assume that the covariance matrix of the errors is correctly specified."
      ],
      "text/plain": [
       "<class 'statsmodels.iolib.summary.Summary'>\n",
       "\"\"\"\n",
       "                                 OLS Regression Results                                \n",
       "=======================================================================================\n",
       "Dep. Variable:            Total_Delay   R-squared (uncentered):                   0.720\n",
       "Model:                            OLS   Adj. R-squared (uncentered):              0.720\n",
       "Method:                 Least Squares   F-statistic:                          1.861e+06\n",
       "Date:                Fri, 13 Dec 2019   Prob (F-statistic):                        0.00\n",
       "Time:                        19:10:06   Log-Likelihood:                     -1.5477e+07\n",
       "No. Observations:             2902179   AIC:                                  3.095e+07\n",
       "Df Residuals:                 2902175   BIC:                                  3.095e+07\n",
       "Df Model:                           4                                                  \n",
       "Covariance Type:            nonrobust                                                  \n",
       "=========================================================================================\n",
       "                            coef    std err          t      P>|t|      [0.025      0.975]\n",
       "-----------------------------------------------------------------------------------------\n",
       "Carrier_Delay             2.1189      0.001   2090.563      0.000       2.117       2.121\n",
       "Security_Delay            2.1795      0.018    120.667      0.000       2.144       2.215\n",
       "RUNAWAY_TOTAL_TIME        0.1032      0.000    231.537      0.000       0.102       0.104\n",
       "Delay_weather/traffic     2.0098      0.001   1602.132      0.000       2.007       2.012\n",
       "==============================================================================\n",
       "Omnibus:                  4812539.492   Durbin-Watson:                   1.971\n",
       "Prob(Omnibus):                  0.000   Jarque-Bera (JB):       8417552202.708\n",
       "Skew:                          10.913   Prob(JB):                         0.00\n",
       "Kurtosis:                     265.933   Cond. No.                         41.0\n",
       "==============================================================================\n",
       "\n",
       "Warnings:\n",
       "[1] Standard Errors assume that the covariance matrix of the errors is correctly specified.\n",
       "\"\"\""
      ]
     },
     "execution_count": 62,
     "metadata": {},
     "output_type": "execute_result"
    }
   ],
   "source": [
    "result.summary()"
   ]
  },
  {
   "cell_type": "markdown",
   "metadata": {},
   "source": [
    "### Interferences:                                                                                                                  Omnibus/Prob(Omnibus) – a test of the skewness and kurtosis of the residual. We hope to see a value close to zero which         would indicate normalcy. And it is zero in our summary.\n",
    "    Skew – a measure of data symmetry. We want to see something close to zero, but large majority of responses are near zero \n",
    "    so, we are getting a greater value. Future scope in this case is that it could be solved by log-transform.\n",
    "    Kurtosis – a measure of \"peakiness\", or curvature of the data. Higher peaks lead to greater Kurtosis. Greater Kurtosis \n",
    "    can be interpreted as a tighter clustering of residuals around zero, implying a better model with few outliers.\n",
    "    Durbin-Watson – tests for homoscedasticity We hope to have a value between 1 and 2.\n",
    "    Jarque-Bera (JB)/Prob(JB) – like the Omnibus test in that it tests both skew and kurtosis. We hope to see in this test a       confirmation of the Omnibus test.\n",
    "    Condition Number – This test measures the sensitivity of a function's output as compared to its input When we have             multicollinearity, we can expect much higher fluctuations to small changes in the data, hence, we hope to see a \n",
    "    relatively small number, something below 30. But we do not have multicollinearity issue in our model hence value is\n",
    "    higher."
   ]
  },
  {
   "cell_type": "markdown",
   "metadata": {},
   "source": [
    "##### Note Points:"
   ]
  },
  {
   "cell_type": "markdown",
   "metadata": {},
   "source": [
    "- p-value ≤ 0.05 indicates strong evidence against the null hypothesis, so you reject the null hypothesis.\n",
    "- All variables except the Product_Category_1 are positively associated with Sales.\n",
    "- R-squared score is **0.70**, which means that this model explains 75% of the total variance.\n",
    "- Security delay, Carrier delay are the factors which impacts delays the most which we can say by looking at the respective coefficients. Hence a heads up to airport and airline authorities to check on their improvisation management and make it more organoised for better performance follwed by air traffic, weather which are inevitable factors.\n",
    "- Future scope: We could have a check on each airport and airline using the same model or even add weather conditions as one predictor variable to predict possible delays in future. This model could be applied to instances where there are high number of delays and least zero value datasets to have more concise outcomes and least skewness."
   ]
  },
  {
   "cell_type": "markdown",
   "metadata": {},
   "source": [
    "##### Performance Estimation of the model :\n",
    "    In the end, it is always good to estimate our results by finding the mean absolute error (MAE) and mean squared error  (MSE)of our predictions"
   ]
  },
  {
   "cell_type": "code",
   "execution_count": 63,
   "metadata": {},
   "outputs": [
    {
     "name": "stdout",
     "output_type": "stream",
     "text": [
      "MAE: 15.872134652160618\n",
      "MSE: 2522.9414356394027\n"
     ]
    }
   ],
   "source": [
    "from sklearn import metrics\n",
    "\n",
    "print('MAE:', metrics.mean_absolute_error(y_test, predictions))\n",
    "print('MSE:', metrics.mean_squared_error(y_test, predictions))"
   ]
  },
  {
   "cell_type": "code",
   "execution_count": 64,
   "metadata": {},
   "outputs": [],
   "source": [
    "### The absolute error is the absolute value of the difference between the forecasted value and the actual value and this case it is relatively small hence, we can conclude that model is good one!"
   ]
  },
  {
   "cell_type": "markdown",
   "metadata": {},
   "source": [
    "#### Target audience: \n",
    "Airlines, Airport authority, Passengers"
   ]
  },
  {
   "cell_type": "markdown",
   "metadata": {},
   "source": [
    "# Conclusion\n",
    "In this project we focused on exploring historical arrival delays across different airlines, airports and time of the day, to try to get some insights on which airlines or airports are more prone to delays. We also then \n",
    "studied the effect of weather on airline delays. For example: given a bad weather,does one airline perform better than the other?. We then build a predictive model to forecast a flight delay. \n",
    "We also quantify the difference in performance between various airlines in terms of arrival and departure delays, given the origin and destination airports for this purpose, we used regressions and showed the importance of regularisation techniques."
   ]
  },
  {
   "cell_type": "markdown",
   "metadata": {},
   "source": [
    "### References "
   ]
  },
  {
   "cell_type": "markdown",
   "metadata": {},
   "source": [
    "https://chih-ling-hsu.github.io/2018/06/14/flight\n",
    "https://www.kaggle.com/jcbrooks/airlines-delay-and-cancellation-analysis\n",
    "https://towardsdatascience.com/https-medium-com-jovan-veljanoski-flying-high-with-vaex-analysis-of-over-30-years-of-flight-data-in-python-b224825a6d56"
   ]
  }
 ],
 "metadata": {
  "kernelspec": {
   "display_name": "Python 3",
   "language": "python",
   "name": "python3"
  },
  "language_info": {
   "codemirror_mode": {
    "name": "ipython",
    "version": 3
   },
   "file_extension": ".py",
   "mimetype": "text/x-python",
   "name": "python",
   "nbconvert_exporter": "python",
   "pygments_lexer": "ipython3",
   "version": "3.7.3"
  }
 },
 "nbformat": 4,
 "nbformat_minor": 2
}
